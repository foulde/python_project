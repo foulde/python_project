{
 "cells": [
  {
   "cell_type": "code",
   "execution_count": 92,
   "id": "95aac1b6",
   "metadata": {},
   "outputs": [],
   "source": [
    "import pandas as pd\n",
    "import numpy as np\n",
    "import matplotlib.pyplot as plt\n",
    "import plotly.express as px\n",
    "import seaborn as sns"
   ]
  },
  {
   "cell_type": "code",
   "execution_count": 93,
   "id": "c1f2d6ba",
   "metadata": {},
   "outputs": [
    {
     "data": {
      "text/html": [
       "<div>\n",
       "<style scoped>\n",
       "    .dataframe tbody tr th:only-of-type {\n",
       "        vertical-align: middle;\n",
       "    }\n",
       "\n",
       "    .dataframe tbody tr th {\n",
       "        vertical-align: top;\n",
       "    }\n",
       "\n",
       "    .dataframe thead th {\n",
       "        text-align: right;\n",
       "    }\n",
       "</style>\n",
       "<table border=\"1\" class=\"dataframe\">\n",
       "  <thead>\n",
       "    <tr style=\"text-align: right;\">\n",
       "      <th></th>\n",
       "      <th>id</th>\n",
       "      <th>duration</th>\n",
       "      <th>bitrate</th>\n",
       "      <th>bitrate(video)</th>\n",
       "      <th>height</th>\n",
       "      <th>width</th>\n",
       "      <th>frame rate</th>\n",
       "      <th>frame rate(est.)</th>\n",
       "      <th>codec</th>\n",
       "      <th>category</th>\n",
       "      <th>url</th>\n",
       "    </tr>\n",
       "  </thead>\n",
       "  <tbody>\n",
       "    <tr>\n",
       "      <th>0</th>\n",
       "      <td>uDNj-_5ty48</td>\n",
       "      <td>267</td>\n",
       "      <td>373</td>\n",
       "      <td>274</td>\n",
       "      <td>568</td>\n",
       "      <td>320</td>\n",
       "      <td>29.97</td>\n",
       "      <td>0.00</td>\n",
       "      <td>h264</td>\n",
       "      <td>Music</td>\n",
       "      <td>http://r2---sn-ovgq0oxu-5goe.c.youtube.com/vid...</td>\n",
       "    </tr>\n",
       "    <tr>\n",
       "      <th>1</th>\n",
       "      <td>uDNj-_5ty48</td>\n",
       "      <td>267</td>\n",
       "      <td>512</td>\n",
       "      <td>396</td>\n",
       "      <td>480</td>\n",
       "      <td>270</td>\n",
       "      <td>29.97</td>\n",
       "      <td>29.97</td>\n",
       "      <td>h264</td>\n",
       "      <td>Music</td>\n",
       "      <td>http://r2---sn-ovgq0oxu-5goe.c.youtube.com/vid...</td>\n",
       "    </tr>\n",
       "    <tr>\n",
       "      <th>2</th>\n",
       "      <td>uDNj-_5ty48</td>\n",
       "      <td>267</td>\n",
       "      <td>324</td>\n",
       "      <td>263</td>\n",
       "      <td>400</td>\n",
       "      <td>226</td>\n",
       "      <td>29.97</td>\n",
       "      <td>29.97</td>\n",
       "      <td>flv1</td>\n",
       "      <td>Music</td>\n",
       "      <td>http://r2---sn-ovgq0oxu-5goe.c.youtube.com/vid...</td>\n",
       "    </tr>\n",
       "    <tr>\n",
       "      <th>3</th>\n",
       "      <td>uDNj-_5ty48</td>\n",
       "      <td>267</td>\n",
       "      <td>85</td>\n",
       "      <td>55</td>\n",
       "      <td>176</td>\n",
       "      <td>144</td>\n",
       "      <td>12.00</td>\n",
       "      <td>12.00</td>\n",
       "      <td>mpeg4</td>\n",
       "      <td>Music</td>\n",
       "      <td>http://r2---sn-ovgq0oxu-5goe.c.youtube.com/vid...</td>\n",
       "    </tr>\n",
       "    <tr>\n",
       "      <th>4</th>\n",
       "      <td>WCgt-AactyY</td>\n",
       "      <td>31</td>\n",
       "      <td>1261</td>\n",
       "      <td>1183</td>\n",
       "      <td>640</td>\n",
       "      <td>480</td>\n",
       "      <td>24.00</td>\n",
       "      <td>0.00</td>\n",
       "      <td>h264</td>\n",
       "      <td>People &amp; Blogs</td>\n",
       "      <td>http://r1---sn-ovgq0oxu-5goe.c.youtube.com/vid...</td>\n",
       "    </tr>\n",
       "  </tbody>\n",
       "</table>\n",
       "</div>"
      ],
      "text/plain": [
       "            id  duration  bitrate  bitrate(video)  height  width  frame rate  \\\n",
       "0  uDNj-_5ty48       267      373             274     568    320       29.97   \n",
       "1  uDNj-_5ty48       267      512             396     480    270       29.97   \n",
       "2  uDNj-_5ty48       267      324             263     400    226       29.97   \n",
       "3  uDNj-_5ty48       267       85              55     176    144       12.00   \n",
       "4  WCgt-AactyY        31     1261            1183     640    480       24.00   \n",
       "\n",
       "   frame rate(est.)  codec        category  \\\n",
       "0              0.00   h264           Music   \n",
       "1             29.97   h264           Music   \n",
       "2             29.97   flv1           Music   \n",
       "3             12.00  mpeg4           Music   \n",
       "4              0.00   h264  People & Blogs   \n",
       "\n",
       "                                                 url  \n",
       "0  http://r2---sn-ovgq0oxu-5goe.c.youtube.com/vid...  \n",
       "1  http://r2---sn-ovgq0oxu-5goe.c.youtube.com/vid...  \n",
       "2  http://r2---sn-ovgq0oxu-5goe.c.youtube.com/vid...  \n",
       "3  http://r2---sn-ovgq0oxu-5goe.c.youtube.com/vid...  \n",
       "4  http://r1---sn-ovgq0oxu-5goe.c.youtube.com/vid...  "
      ]
     },
     "execution_count": 93,
     "metadata": {},
     "output_type": "execute_result"
    }
   ],
   "source": [
    "df_youtube_videos=pd.read_csv(\"youtube_videos.tsv\",sep=\"\\t\")\n",
    "df_youtube_videos.head(5)"
   ]
  },
  {
   "cell_type": "code",
   "execution_count": 94,
   "id": "2a9062fe",
   "metadata": {},
   "outputs": [
    {
     "data": {
      "text/html": [
       "<div>\n",
       "<style scoped>\n",
       "    .dataframe tbody tr th:only-of-type {\n",
       "        vertical-align: middle;\n",
       "    }\n",
       "\n",
       "    .dataframe tbody tr th {\n",
       "        vertical-align: top;\n",
       "    }\n",
       "\n",
       "    .dataframe thead th {\n",
       "        text-align: right;\n",
       "    }\n",
       "</style>\n",
       "<table border=\"1\" class=\"dataframe\">\n",
       "  <thead>\n",
       "    <tr style=\"text-align: right;\">\n",
       "      <th></th>\n",
       "      <th>id</th>\n",
       "      <th>duration</th>\n",
       "      <th>codec</th>\n",
       "      <th>width</th>\n",
       "      <th>height</th>\n",
       "      <th>bitrate</th>\n",
       "      <th>framerate</th>\n",
       "      <th>i</th>\n",
       "      <th>p</th>\n",
       "      <th>b</th>\n",
       "      <th>...</th>\n",
       "      <th>p_size</th>\n",
       "      <th>b_size</th>\n",
       "      <th>size</th>\n",
       "      <th>o_codec</th>\n",
       "      <th>o_bitrate</th>\n",
       "      <th>o_framerate</th>\n",
       "      <th>o_width</th>\n",
       "      <th>o_height</th>\n",
       "      <th>umem</th>\n",
       "      <th>utime</th>\n",
       "    </tr>\n",
       "  </thead>\n",
       "  <tbody>\n",
       "    <tr>\n",
       "      <th>0</th>\n",
       "      <td>04t6-jw9czg</td>\n",
       "      <td>130.35667</td>\n",
       "      <td>mpeg4</td>\n",
       "      <td>176</td>\n",
       "      <td>144</td>\n",
       "      <td>54590</td>\n",
       "      <td>12.0</td>\n",
       "      <td>27</td>\n",
       "      <td>1537</td>\n",
       "      <td>0</td>\n",
       "      <td>...</td>\n",
       "      <td>825054</td>\n",
       "      <td>0</td>\n",
       "      <td>889537</td>\n",
       "      <td>mpeg4</td>\n",
       "      <td>56000</td>\n",
       "      <td>12.0</td>\n",
       "      <td>176</td>\n",
       "      <td>144</td>\n",
       "      <td>22508</td>\n",
       "      <td>0.612</td>\n",
       "    </tr>\n",
       "    <tr>\n",
       "      <th>1</th>\n",
       "      <td>04t6-jw9czg</td>\n",
       "      <td>130.35667</td>\n",
       "      <td>mpeg4</td>\n",
       "      <td>176</td>\n",
       "      <td>144</td>\n",
       "      <td>54590</td>\n",
       "      <td>12.0</td>\n",
       "      <td>27</td>\n",
       "      <td>1537</td>\n",
       "      <td>0</td>\n",
       "      <td>...</td>\n",
       "      <td>825054</td>\n",
       "      <td>0</td>\n",
       "      <td>889537</td>\n",
       "      <td>mpeg4</td>\n",
       "      <td>56000</td>\n",
       "      <td>12.0</td>\n",
       "      <td>320</td>\n",
       "      <td>240</td>\n",
       "      <td>25164</td>\n",
       "      <td>0.980</td>\n",
       "    </tr>\n",
       "    <tr>\n",
       "      <th>2</th>\n",
       "      <td>04t6-jw9czg</td>\n",
       "      <td>130.35667</td>\n",
       "      <td>mpeg4</td>\n",
       "      <td>176</td>\n",
       "      <td>144</td>\n",
       "      <td>54590</td>\n",
       "      <td>12.0</td>\n",
       "      <td>27</td>\n",
       "      <td>1537</td>\n",
       "      <td>0</td>\n",
       "      <td>...</td>\n",
       "      <td>825054</td>\n",
       "      <td>0</td>\n",
       "      <td>889537</td>\n",
       "      <td>mpeg4</td>\n",
       "      <td>56000</td>\n",
       "      <td>12.0</td>\n",
       "      <td>480</td>\n",
       "      <td>360</td>\n",
       "      <td>29228</td>\n",
       "      <td>1.216</td>\n",
       "    </tr>\n",
       "    <tr>\n",
       "      <th>3</th>\n",
       "      <td>04t6-jw9czg</td>\n",
       "      <td>130.35667</td>\n",
       "      <td>mpeg4</td>\n",
       "      <td>176</td>\n",
       "      <td>144</td>\n",
       "      <td>54590</td>\n",
       "      <td>12.0</td>\n",
       "      <td>27</td>\n",
       "      <td>1537</td>\n",
       "      <td>0</td>\n",
       "      <td>...</td>\n",
       "      <td>825054</td>\n",
       "      <td>0</td>\n",
       "      <td>889537</td>\n",
       "      <td>mpeg4</td>\n",
       "      <td>56000</td>\n",
       "      <td>12.0</td>\n",
       "      <td>640</td>\n",
       "      <td>480</td>\n",
       "      <td>34316</td>\n",
       "      <td>1.692</td>\n",
       "    </tr>\n",
       "    <tr>\n",
       "      <th>4</th>\n",
       "      <td>04t6-jw9czg</td>\n",
       "      <td>130.35667</td>\n",
       "      <td>mpeg4</td>\n",
       "      <td>176</td>\n",
       "      <td>144</td>\n",
       "      <td>54590</td>\n",
       "      <td>12.0</td>\n",
       "      <td>27</td>\n",
       "      <td>1537</td>\n",
       "      <td>0</td>\n",
       "      <td>...</td>\n",
       "      <td>825054</td>\n",
       "      <td>0</td>\n",
       "      <td>889537</td>\n",
       "      <td>mpeg4</td>\n",
       "      <td>56000</td>\n",
       "      <td>12.0</td>\n",
       "      <td>1280</td>\n",
       "      <td>720</td>\n",
       "      <td>58528</td>\n",
       "      <td>3.456</td>\n",
       "    </tr>\n",
       "  </tbody>\n",
       "</table>\n",
       "<p>5 rows × 22 columns</p>\n",
       "</div>"
      ],
      "text/plain": [
       "            id   duration  codec  width  height  bitrate  framerate   i     p  \\\n",
       "0  04t6-jw9czg  130.35667  mpeg4    176     144    54590       12.0  27  1537   \n",
       "1  04t6-jw9czg  130.35667  mpeg4    176     144    54590       12.0  27  1537   \n",
       "2  04t6-jw9czg  130.35667  mpeg4    176     144    54590       12.0  27  1537   \n",
       "3  04t6-jw9czg  130.35667  mpeg4    176     144    54590       12.0  27  1537   \n",
       "4  04t6-jw9czg  130.35667  mpeg4    176     144    54590       12.0  27  1537   \n",
       "\n",
       "   b  ...  p_size  b_size    size  o_codec  o_bitrate o_framerate  o_width  \\\n",
       "0  0  ...  825054       0  889537    mpeg4      56000        12.0      176   \n",
       "1  0  ...  825054       0  889537    mpeg4      56000        12.0      320   \n",
       "2  0  ...  825054       0  889537    mpeg4      56000        12.0      480   \n",
       "3  0  ...  825054       0  889537    mpeg4      56000        12.0      640   \n",
       "4  0  ...  825054       0  889537    mpeg4      56000        12.0     1280   \n",
       "\n",
       "   o_height   umem  utime  \n",
       "0       144  22508  0.612  \n",
       "1       240  25164  0.980  \n",
       "2       360  29228  1.216  \n",
       "3       480  34316  1.692  \n",
       "4       720  58528  3.456  \n",
       "\n",
       "[5 rows x 22 columns]"
      ]
     },
     "execution_count": 94,
     "metadata": {},
     "output_type": "execute_result"
    }
   ],
   "source": [
    "df_transcoding_mesurment=pd.read_csv(\"transcoding_mesurment.tsv\",sep=\"\\t\")\n",
    "df_transcoding_mesurment.head(5)\n"
   ]
  },
  {
   "cell_type": "code",
   "execution_count": 95,
   "id": "ea4be091",
   "metadata": {},
   "outputs": [
    {
     "name": "stdout",
     "output_type": "stream",
     "text": [
      "Index(['id', 'duration', 'codec', 'width', 'height', 'bitrate', 'framerate',\n",
      "       'i', 'p', 'b', 'frames', 'i_size', 'p_size', 'b_size', 'size',\n",
      "       'o_codec', 'o_bitrate', 'o_framerate', 'o_width', 'o_height', 'umem',\n",
      "       'utime'],\n",
      "      dtype='object')\n"
     ]
    },
    {
     "data": {
      "text/plain": [
       "22"
      ]
     },
     "execution_count": 95,
     "metadata": {},
     "output_type": "execute_result"
    }
   ],
   "source": [
    "print(df_transcoding_mesurment.columns)\n",
    "len(df_transcoding_mesurment.columns)"
   ]
  },
  {
   "cell_type": "code",
   "execution_count": 96,
   "id": "b12ed6d9",
   "metadata": {},
   "outputs": [
    {
     "name": "stdout",
     "output_type": "stream",
     "text": [
      "Index(['id', 'duration', 'bitrate', 'bitrate(video)', 'height', 'width',\n",
      "       'frame rate', 'frame rate(est.)', 'codec', 'category', 'url'],\n",
      "      dtype='object')\n"
     ]
    },
    {
     "data": {
      "text/plain": [
       "11"
      ]
     },
     "execution_count": 96,
     "metadata": {},
     "output_type": "execute_result"
    }
   ],
   "source": [
    "print(df_youtube_videos.columns)\n",
    "len(df_youtube_videos.columns)"
   ]
  },
  {
   "cell_type": "code",
   "execution_count": 97,
   "id": "f1d3a5b1",
   "metadata": {},
   "outputs": [
    {
     "name": "stdout",
     "output_type": "stream",
     "text": [
      "Index(['id', 'duration', 'codec', 'width', 'height', 'bitrate', 'framerate',\n",
      "       'i', 'p', 'b', 'frames', 'i_size', 'p_size', 'b_size', 'size',\n",
      "       'o_codec', 'o_bitrate', 'o_framerate', 'o_width', 'o_height', 'umem',\n",
      "       'utime'],\n",
      "      dtype='object')\n"
     ]
    },
    {
     "data": {
      "text/plain": [
       "22"
      ]
     },
     "execution_count": 97,
     "metadata": {},
     "output_type": "execute_result"
    }
   ],
   "source": [
    "print(df_transcoding_mesurment.columns)\n",
    "len(df_transcoding_mesurment.columns)\n"
   ]
  },
  {
   "cell_type": "code",
   "execution_count": 98,
   "id": "2023df4a",
   "metadata": {},
   "outputs": [
    {
     "name": "stdout",
     "output_type": "stream",
     "text": [
      "[]\n"
     ]
    }
   ],
   "source": [
    "empty = []\n",
    "for i in range(len(df_youtube_videos.columns)):\n",
    "    if df_youtube_videos[df_youtube_videos.columns[i]].isnull().values.all():\n",
    "        empty.append(df_youtube_videos.columns[i])\n",
    "        print(\"tomate\")\n",
    "print(empty)\n",
    "df_youtube_videos = df_youtube_videos.drop(columns=empty)"
   ]
  },
  {
   "cell_type": "code",
   "execution_count": 99,
   "id": "409f93d4",
   "metadata": {},
   "outputs": [
    {
     "name": "stdout",
     "output_type": "stream",
     "text": [
      "[]\n"
     ]
    }
   ],
   "source": [
    "empty = []\n",
    "for i in range(len(df_transcoding_mesurment.columns)):\n",
    "    if df_transcoding_mesurment[df_transcoding_mesurment.columns[i]].isnull().values.all():\n",
    "        empty.append(df_transcoding_mesurment.columns[i])\n",
    "        print(\"tomate\")\n",
    "\n",
    "print(empty)\n",
    "df_transcoding_mesurment = df_transcoding_mesurment.drop(columns=empty)"
   ]
  },
  {
   "cell_type": "code",
   "execution_count": 100,
   "id": "ec4e0d79",
   "metadata": {},
   "outputs": [],
   "source": [
    "df_youtube_videos.set_axis(['id_video','duration', 'bitrate', 'bitrate(video)', 'height_video', 'width_video','framerate', 'framerate(est.)', 'codec', 'category_video', 'url'],axis='columns',inplace=True)\n",
    "df_transcoding_mesurment.set_axis(['id_video', 'duration', 'codec', 'width_video', 'height_video', 'bitrate', 'framerate','number_i_frames', 'number_p_frames', 'number_b_frames', 'total_frames', 'i_size', 'p_size', 'b_size', 'total_size',      'o_codec', 'o_bitrate', 'o_framerate', 'o_width', 'o_height', 'codec_allocated_memory', 'transcoding_time'], axis = 'columns',inplace =True)"
   ]
  },
  {
   "cell_type": "code",
   "execution_count": 101,
   "id": "54295729",
   "metadata": {},
   "outputs": [
    {
     "data": {
      "text/html": [
       "<div>\n",
       "<style scoped>\n",
       "    .dataframe tbody tr th:only-of-type {\n",
       "        vertical-align: middle;\n",
       "    }\n",
       "\n",
       "    .dataframe tbody tr th {\n",
       "        vertical-align: top;\n",
       "    }\n",
       "\n",
       "    .dataframe thead th {\n",
       "        text-align: right;\n",
       "    }\n",
       "</style>\n",
       "<table border=\"1\" class=\"dataframe\">\n",
       "  <thead>\n",
       "    <tr style=\"text-align: right;\">\n",
       "      <th></th>\n",
       "      <th>duration</th>\n",
       "      <th>bitrate</th>\n",
       "      <th>bitrate(video)</th>\n",
       "      <th>height_video</th>\n",
       "      <th>width_video</th>\n",
       "      <th>framerate</th>\n",
       "      <th>framerate(est.)</th>\n",
       "    </tr>\n",
       "  </thead>\n",
       "  <tbody>\n",
       "    <tr>\n",
       "      <th>count</th>\n",
       "      <td>168286.000000</td>\n",
       "      <td>168286.00000</td>\n",
       "      <td>168286.000000</td>\n",
       "      <td>168286.000000</td>\n",
       "      <td>168286.000000</td>\n",
       "      <td>168286.000000</td>\n",
       "      <td>168286.000000</td>\n",
       "    </tr>\n",
       "    <tr>\n",
       "      <th>mean</th>\n",
       "      <td>271.654184</td>\n",
       "      <td>730.62149</td>\n",
       "      <td>624.363025</td>\n",
       "      <td>561.018706</td>\n",
       "      <td>368.399701</td>\n",
       "      <td>24.564592</td>\n",
       "      <td>19.884441</td>\n",
       "    </tr>\n",
       "    <tr>\n",
       "      <th>std</th>\n",
       "      <td>552.881871</td>\n",
       "      <td>919.15473</td>\n",
       "      <td>860.955654</td>\n",
       "      <td>359.071569</td>\n",
       "      <td>201.274180</td>\n",
       "      <td>7.396615</td>\n",
       "      <td>11.435070</td>\n",
       "    </tr>\n",
       "    <tr>\n",
       "      <th>min</th>\n",
       "      <td>1.000000</td>\n",
       "      <td>0.00000</td>\n",
       "      <td>0.000000</td>\n",
       "      <td>100.000000</td>\n",
       "      <td>88.000000</td>\n",
       "      <td>0.000000</td>\n",
       "      <td>0.000000</td>\n",
       "    </tr>\n",
       "    <tr>\n",
       "      <th>25%</th>\n",
       "      <td>55.000000</td>\n",
       "      <td>289.00000</td>\n",
       "      <td>231.000000</td>\n",
       "      <td>320.000000</td>\n",
       "      <td>240.000000</td>\n",
       "      <td>23.980000</td>\n",
       "      <td>12.000000</td>\n",
       "    </tr>\n",
       "    <tr>\n",
       "      <th>50%</th>\n",
       "      <td>145.000000</td>\n",
       "      <td>459.00000</td>\n",
       "      <td>349.000000</td>\n",
       "      <td>480.000000</td>\n",
       "      <td>360.000000</td>\n",
       "      <td>29.920000</td>\n",
       "      <td>25.000000</td>\n",
       "    </tr>\n",
       "    <tr>\n",
       "      <th>75%</th>\n",
       "      <td>289.000000</td>\n",
       "      <td>826.00000</td>\n",
       "      <td>640.000000</td>\n",
       "      <td>640.000000</td>\n",
       "      <td>480.000000</td>\n",
       "      <td>29.970000</td>\n",
       "      <td>29.970000</td>\n",
       "    </tr>\n",
       "    <tr>\n",
       "      <th>max</th>\n",
       "      <td>25845.000000</td>\n",
       "      <td>22421.00000</td>\n",
       "      <td>22229.000000</td>\n",
       "      <td>2592.000000</td>\n",
       "      <td>1944.000000</td>\n",
       "      <td>59.940000</td>\n",
       "      <td>30.020000</td>\n",
       "    </tr>\n",
       "  </tbody>\n",
       "</table>\n",
       "</div>"
      ],
      "text/plain": [
       "            duration       bitrate  bitrate(video)   height_video  \\\n",
       "count  168286.000000  168286.00000   168286.000000  168286.000000   \n",
       "mean      271.654184     730.62149      624.363025     561.018706   \n",
       "std       552.881871     919.15473      860.955654     359.071569   \n",
       "min         1.000000       0.00000        0.000000     100.000000   \n",
       "25%        55.000000     289.00000      231.000000     320.000000   \n",
       "50%       145.000000     459.00000      349.000000     480.000000   \n",
       "75%       289.000000     826.00000      640.000000     640.000000   \n",
       "max     25845.000000   22421.00000    22229.000000    2592.000000   \n",
       "\n",
       "         width_video      framerate  framerate(est.)  \n",
       "count  168286.000000  168286.000000    168286.000000  \n",
       "mean      368.399701      24.564592        19.884441  \n",
       "std       201.274180       7.396615        11.435070  \n",
       "min        88.000000       0.000000         0.000000  \n",
       "25%       240.000000      23.980000        12.000000  \n",
       "50%       360.000000      29.920000        25.000000  \n",
       "75%       480.000000      29.970000        29.970000  \n",
       "max      1944.000000      59.940000        30.020000  "
      ]
     },
     "execution_count": 101,
     "metadata": {},
     "output_type": "execute_result"
    }
   ],
   "source": [
    "df_youtube_videos.describe()\n"
   ]
  },
  {
   "cell_type": "code",
   "execution_count": 102,
   "id": "ad02c0d7",
   "metadata": {},
   "outputs": [
    {
     "data": {
      "text/html": [
       "<div>\n",
       "<style scoped>\n",
       "    .dataframe tbody tr th:only-of-type {\n",
       "        vertical-align: middle;\n",
       "    }\n",
       "\n",
       "    .dataframe tbody tr th {\n",
       "        vertical-align: top;\n",
       "    }\n",
       "\n",
       "    .dataframe thead th {\n",
       "        text-align: right;\n",
       "    }\n",
       "</style>\n",
       "<table border=\"1\" class=\"dataframe\">\n",
       "  <thead>\n",
       "    <tr style=\"text-align: right;\">\n",
       "      <th></th>\n",
       "      <th>duration</th>\n",
       "      <th>width_video</th>\n",
       "      <th>height_video</th>\n",
       "      <th>bitrate</th>\n",
       "      <th>framerate</th>\n",
       "      <th>number_i_frames</th>\n",
       "      <th>number_p_frames</th>\n",
       "      <th>number_b_frames</th>\n",
       "      <th>total_frames</th>\n",
       "      <th>i_size</th>\n",
       "      <th>p_size</th>\n",
       "      <th>b_size</th>\n",
       "      <th>total_size</th>\n",
       "      <th>o_bitrate</th>\n",
       "      <th>o_framerate</th>\n",
       "      <th>o_width</th>\n",
       "      <th>o_height</th>\n",
       "      <th>codec_allocated_memory</th>\n",
       "      <th>transcoding_time</th>\n",
       "    </tr>\n",
       "  </thead>\n",
       "  <tbody>\n",
       "    <tr>\n",
       "      <th>count</th>\n",
       "      <td>68784.000000</td>\n",
       "      <td>68784.000000</td>\n",
       "      <td>68784.000000</td>\n",
       "      <td>6.878400e+04</td>\n",
       "      <td>68784.000000</td>\n",
       "      <td>68784.000000</td>\n",
       "      <td>68784.000000</td>\n",
       "      <td>68784.000000</td>\n",
       "      <td>68784.000000</td>\n",
       "      <td>6.878400e+04</td>\n",
       "      <td>6.878400e+04</td>\n",
       "      <td>68784.0</td>\n",
       "      <td>6.878400e+04</td>\n",
       "      <td>6.878400e+04</td>\n",
       "      <td>68784.000000</td>\n",
       "      <td>68784.000000</td>\n",
       "      <td>68784.000000</td>\n",
       "      <td>68784.000000</td>\n",
       "      <td>68784.000000</td>\n",
       "    </tr>\n",
       "    <tr>\n",
       "      <th>mean</th>\n",
       "      <td>286.413921</td>\n",
       "      <td>624.934171</td>\n",
       "      <td>412.572226</td>\n",
       "      <td>6.937015e+05</td>\n",
       "      <td>23.241321</td>\n",
       "      <td>100.868312</td>\n",
       "      <td>6531.692210</td>\n",
       "      <td>9.147854</td>\n",
       "      <td>6641.708377</td>\n",
       "      <td>2.838987e+06</td>\n",
       "      <td>2.218057e+07</td>\n",
       "      <td>0.0</td>\n",
       "      <td>2.502294e+07</td>\n",
       "      <td>1.395036e+06</td>\n",
       "      <td>21.190862</td>\n",
       "      <td>802.336357</td>\n",
       "      <td>503.825541</td>\n",
       "      <td>228224.717900</td>\n",
       "      <td>9.996355</td>\n",
       "    </tr>\n",
       "    <tr>\n",
       "      <th>std</th>\n",
       "      <td>287.257650</td>\n",
       "      <td>463.169069</td>\n",
       "      <td>240.615472</td>\n",
       "      <td>1.095628e+06</td>\n",
       "      <td>7.224848</td>\n",
       "      <td>84.764791</td>\n",
       "      <td>6075.871744</td>\n",
       "      <td>92.516177</td>\n",
       "      <td>6153.342453</td>\n",
       "      <td>4.325137e+06</td>\n",
       "      <td>5.097306e+07</td>\n",
       "      <td>0.0</td>\n",
       "      <td>5.414402e+07</td>\n",
       "      <td>1.749352e+06</td>\n",
       "      <td>6.668703</td>\n",
       "      <td>609.959797</td>\n",
       "      <td>315.970438</td>\n",
       "      <td>97430.878373</td>\n",
       "      <td>16.107429</td>\n",
       "    </tr>\n",
       "    <tr>\n",
       "      <th>min</th>\n",
       "      <td>31.080000</td>\n",
       "      <td>176.000000</td>\n",
       "      <td>144.000000</td>\n",
       "      <td>8.384000e+03</td>\n",
       "      <td>5.705752</td>\n",
       "      <td>7.000000</td>\n",
       "      <td>175.000000</td>\n",
       "      <td>0.000000</td>\n",
       "      <td>192.000000</td>\n",
       "      <td>1.164800e+04</td>\n",
       "      <td>3.384500e+04</td>\n",
       "      <td>0.0</td>\n",
       "      <td>1.918790e+05</td>\n",
       "      <td>5.600000e+04</td>\n",
       "      <td>12.000000</td>\n",
       "      <td>176.000000</td>\n",
       "      <td>144.000000</td>\n",
       "      <td>22508.000000</td>\n",
       "      <td>0.184000</td>\n",
       "    </tr>\n",
       "    <tr>\n",
       "      <th>25%</th>\n",
       "      <td>106.765000</td>\n",
       "      <td>320.000000</td>\n",
       "      <td>240.000000</td>\n",
       "      <td>1.343340e+05</td>\n",
       "      <td>15.000000</td>\n",
       "      <td>39.000000</td>\n",
       "      <td>2374.000000</td>\n",
       "      <td>0.000000</td>\n",
       "      <td>2417.000000</td>\n",
       "      <td>3.933950e+05</td>\n",
       "      <td>1.851539e+06</td>\n",
       "      <td>0.0</td>\n",
       "      <td>2.258222e+06</td>\n",
       "      <td>1.090000e+05</td>\n",
       "      <td>15.000000</td>\n",
       "      <td>320.000000</td>\n",
       "      <td>240.000000</td>\n",
       "      <td>216820.000000</td>\n",
       "      <td>2.096000</td>\n",
       "    </tr>\n",
       "    <tr>\n",
       "      <th>50%</th>\n",
       "      <td>239.141660</td>\n",
       "      <td>480.000000</td>\n",
       "      <td>360.000000</td>\n",
       "      <td>2.911500e+05</td>\n",
       "      <td>25.021740</td>\n",
       "      <td>80.000000</td>\n",
       "      <td>5515.000000</td>\n",
       "      <td>0.000000</td>\n",
       "      <td>5628.000000</td>\n",
       "      <td>9.458650e+05</td>\n",
       "      <td>6.166260e+06</td>\n",
       "      <td>0.0</td>\n",
       "      <td>7.881069e+06</td>\n",
       "      <td>5.390000e+05</td>\n",
       "      <td>24.000000</td>\n",
       "      <td>480.000000</td>\n",
       "      <td>360.000000</td>\n",
       "      <td>219480.000000</td>\n",
       "      <td>4.408000</td>\n",
       "    </tr>\n",
       "    <tr>\n",
       "      <th>75%</th>\n",
       "      <td>379.320000</td>\n",
       "      <td>640.000000</td>\n",
       "      <td>480.000000</td>\n",
       "      <td>6.529670e+05</td>\n",
       "      <td>29.000000</td>\n",
       "      <td>138.000000</td>\n",
       "      <td>9155.000000</td>\n",
       "      <td>0.000000</td>\n",
       "      <td>9232.000000</td>\n",
       "      <td>3.392479e+06</td>\n",
       "      <td>1.515506e+07</td>\n",
       "      <td>0.0</td>\n",
       "      <td>1.977335e+07</td>\n",
       "      <td>3.000000e+06</td>\n",
       "      <td>25.000000</td>\n",
       "      <td>1280.000000</td>\n",
       "      <td>720.000000</td>\n",
       "      <td>219656.000000</td>\n",
       "      <td>10.433000</td>\n",
       "    </tr>\n",
       "    <tr>\n",
       "      <th>max</th>\n",
       "      <td>25844.086000</td>\n",
       "      <td>1920.000000</td>\n",
       "      <td>1080.000000</td>\n",
       "      <td>7.628466e+06</td>\n",
       "      <td>48.000000</td>\n",
       "      <td>5170.000000</td>\n",
       "      <td>304959.000000</td>\n",
       "      <td>9407.000000</td>\n",
       "      <td>310129.000000</td>\n",
       "      <td>9.082855e+07</td>\n",
       "      <td>7.689970e+08</td>\n",
       "      <td>0.0</td>\n",
       "      <td>8.067111e+08</td>\n",
       "      <td>5.000000e+06</td>\n",
       "      <td>29.970000</td>\n",
       "      <td>1920.000000</td>\n",
       "      <td>1080.000000</td>\n",
       "      <td>711824.000000</td>\n",
       "      <td>224.574000</td>\n",
       "    </tr>\n",
       "  </tbody>\n",
       "</table>\n",
       "</div>"
      ],
      "text/plain": [
       "           duration   width_video  height_video       bitrate     framerate  \\\n",
       "count  68784.000000  68784.000000  68784.000000  6.878400e+04  68784.000000   \n",
       "mean     286.413921    624.934171    412.572226  6.937015e+05     23.241321   \n",
       "std      287.257650    463.169069    240.615472  1.095628e+06      7.224848   \n",
       "min       31.080000    176.000000    144.000000  8.384000e+03      5.705752   \n",
       "25%      106.765000    320.000000    240.000000  1.343340e+05     15.000000   \n",
       "50%      239.141660    480.000000    360.000000  2.911500e+05     25.021740   \n",
       "75%      379.320000    640.000000    480.000000  6.529670e+05     29.000000   \n",
       "max    25844.086000   1920.000000   1080.000000  7.628466e+06     48.000000   \n",
       "\n",
       "       number_i_frames  number_p_frames  number_b_frames   total_frames  \\\n",
       "count     68784.000000     68784.000000     68784.000000   68784.000000   \n",
       "mean        100.868312      6531.692210         9.147854    6641.708377   \n",
       "std          84.764791      6075.871744        92.516177    6153.342453   \n",
       "min           7.000000       175.000000         0.000000     192.000000   \n",
       "25%          39.000000      2374.000000         0.000000    2417.000000   \n",
       "50%          80.000000      5515.000000         0.000000    5628.000000   \n",
       "75%         138.000000      9155.000000         0.000000    9232.000000   \n",
       "max        5170.000000    304959.000000      9407.000000  310129.000000   \n",
       "\n",
       "             i_size        p_size   b_size    total_size     o_bitrate  \\\n",
       "count  6.878400e+04  6.878400e+04  68784.0  6.878400e+04  6.878400e+04   \n",
       "mean   2.838987e+06  2.218057e+07      0.0  2.502294e+07  1.395036e+06   \n",
       "std    4.325137e+06  5.097306e+07      0.0  5.414402e+07  1.749352e+06   \n",
       "min    1.164800e+04  3.384500e+04      0.0  1.918790e+05  5.600000e+04   \n",
       "25%    3.933950e+05  1.851539e+06      0.0  2.258222e+06  1.090000e+05   \n",
       "50%    9.458650e+05  6.166260e+06      0.0  7.881069e+06  5.390000e+05   \n",
       "75%    3.392479e+06  1.515506e+07      0.0  1.977335e+07  3.000000e+06   \n",
       "max    9.082855e+07  7.689970e+08      0.0  8.067111e+08  5.000000e+06   \n",
       "\n",
       "        o_framerate       o_width      o_height  codec_allocated_memory  \\\n",
       "count  68784.000000  68784.000000  68784.000000            68784.000000   \n",
       "mean      21.190862    802.336357    503.825541           228224.717900   \n",
       "std        6.668703    609.959797    315.970438            97430.878373   \n",
       "min       12.000000    176.000000    144.000000            22508.000000   \n",
       "25%       15.000000    320.000000    240.000000           216820.000000   \n",
       "50%       24.000000    480.000000    360.000000           219480.000000   \n",
       "75%       25.000000   1280.000000    720.000000           219656.000000   \n",
       "max       29.970000   1920.000000   1080.000000           711824.000000   \n",
       "\n",
       "       transcoding_time  \n",
       "count      68784.000000  \n",
       "mean           9.996355  \n",
       "std           16.107429  \n",
       "min            0.184000  \n",
       "25%            2.096000  \n",
       "50%            4.408000  \n",
       "75%           10.433000  \n",
       "max          224.574000  "
      ]
     },
     "execution_count": 102,
     "metadata": {},
     "output_type": "execute_result"
    }
   ],
   "source": [
    "df_transcoding_mesurment.describe()"
   ]
  },
  {
   "cell_type": "code",
   "execution_count": 103,
   "id": "510329fb",
   "metadata": {},
   "outputs": [],
   "source": [
    "# df_transcoding_mesurment['bitrate'].hist()\n",
    "# q = df_transcoding_mesurment['bitrate'].quantile(0.95)\n",
    "# q\n",
    "# df_95 = df_transcoding_mesurment[df_transcoding_mesurment['bitrate'] < q]\n",
    "# df_95\n"
   ]
  },
  {
   "cell_type": "code",
   "execution_count": 104,
   "id": "24737381",
   "metadata": {},
   "outputs": [
    {
     "data": {
      "text/html": [
       "<div>\n",
       "<style scoped>\n",
       "    .dataframe tbody tr th:only-of-type {\n",
       "        vertical-align: middle;\n",
       "    }\n",
       "\n",
       "    .dataframe tbody tr th {\n",
       "        vertical-align: top;\n",
       "    }\n",
       "\n",
       "    .dataframe thead th {\n",
       "        text-align: right;\n",
       "    }\n",
       "</style>\n",
       "<table border=\"1\" class=\"dataframe\">\n",
       "  <thead>\n",
       "    <tr style=\"text-align: right;\">\n",
       "      <th></th>\n",
       "      <th>id_video</th>\n",
       "      <th>duration</th>\n",
       "      <th>codec</th>\n",
       "      <th>width_video</th>\n",
       "      <th>height_video</th>\n",
       "      <th>bitrate</th>\n",
       "      <th>framerate</th>\n",
       "      <th>number_i_frames</th>\n",
       "      <th>number_p_frames</th>\n",
       "      <th>number_b_frames</th>\n",
       "      <th>...</th>\n",
       "      <th>p_size</th>\n",
       "      <th>b_size</th>\n",
       "      <th>total_size</th>\n",
       "      <th>o_codec</th>\n",
       "      <th>o_bitrate</th>\n",
       "      <th>o_framerate</th>\n",
       "      <th>o_width</th>\n",
       "      <th>o_height</th>\n",
       "      <th>codec_allocated_memory</th>\n",
       "      <th>transcoding_time</th>\n",
       "    </tr>\n",
       "  </thead>\n",
       "  <tbody>\n",
       "  </tbody>\n",
       "</table>\n",
       "<p>0 rows × 22 columns</p>\n",
       "</div>"
      ],
      "text/plain": [
       "Empty DataFrame\n",
       "Columns: [id_video, duration, codec, width_video, height_video, bitrate, framerate, number_i_frames, number_p_frames, number_b_frames, total_frames, i_size, p_size, b_size, total_size, o_codec, o_bitrate, o_framerate, o_width, o_height, codec_allocated_memory, transcoding_time]\n",
       "Index: []\n",
       "\n",
       "[0 rows x 22 columns]"
      ]
     },
     "execution_count": 104,
     "metadata": {},
     "output_type": "execute_result"
    }
   ],
   "source": [
    "# select any line with at least one empty cell \n",
    "df_transcoding_mesurment[pd.isnull(df_transcoding_mesurment).any(axis=1)]\n"
   ]
  },
  {
   "cell_type": "code",
   "execution_count": 105,
   "id": "39ebf1e6",
   "metadata": {},
   "outputs": [
    {
     "data": {
      "text/html": [
       "<div>\n",
       "<style scoped>\n",
       "    .dataframe tbody tr th:only-of-type {\n",
       "        vertical-align: middle;\n",
       "    }\n",
       "\n",
       "    .dataframe tbody tr th {\n",
       "        vertical-align: top;\n",
       "    }\n",
       "\n",
       "    .dataframe thead th {\n",
       "        text-align: right;\n",
       "    }\n",
       "</style>\n",
       "<table border=\"1\" class=\"dataframe\">\n",
       "  <thead>\n",
       "    <tr style=\"text-align: right;\">\n",
       "      <th></th>\n",
       "      <th>id_video</th>\n",
       "      <th>duration</th>\n",
       "      <th>codec</th>\n",
       "      <th>width_video</th>\n",
       "      <th>height_video</th>\n",
       "      <th>bitrate</th>\n",
       "      <th>framerate</th>\n",
       "      <th>number_i_frames</th>\n",
       "      <th>number_p_frames</th>\n",
       "      <th>number_b_frames</th>\n",
       "      <th>...</th>\n",
       "      <th>p_size</th>\n",
       "      <th>b_size</th>\n",
       "      <th>total_size</th>\n",
       "      <th>o_codec</th>\n",
       "      <th>o_bitrate</th>\n",
       "      <th>o_framerate</th>\n",
       "      <th>o_width</th>\n",
       "      <th>o_height</th>\n",
       "      <th>codec_allocated_memory</th>\n",
       "      <th>transcoding_time</th>\n",
       "    </tr>\n",
       "  </thead>\n",
       "  <tbody>\n",
       "    <tr>\n",
       "      <th>0</th>\n",
       "      <td>04t6-jw9czg</td>\n",
       "      <td>130.35667</td>\n",
       "      <td>mpeg4</td>\n",
       "      <td>176</td>\n",
       "      <td>144</td>\n",
       "      <td>54590</td>\n",
       "      <td>12.000000</td>\n",
       "      <td>27</td>\n",
       "      <td>1537</td>\n",
       "      <td>0</td>\n",
       "      <td>...</td>\n",
       "      <td>825054</td>\n",
       "      <td>0</td>\n",
       "      <td>889537</td>\n",
       "      <td>mpeg4</td>\n",
       "      <td>56000</td>\n",
       "      <td>12.00</td>\n",
       "      <td>176</td>\n",
       "      <td>144</td>\n",
       "      <td>22508</td>\n",
       "      <td>0.612</td>\n",
       "    </tr>\n",
       "    <tr>\n",
       "      <th>1</th>\n",
       "      <td>04t6-jw9czg</td>\n",
       "      <td>130.35667</td>\n",
       "      <td>mpeg4</td>\n",
       "      <td>176</td>\n",
       "      <td>144</td>\n",
       "      <td>54590</td>\n",
       "      <td>12.000000</td>\n",
       "      <td>27</td>\n",
       "      <td>1537</td>\n",
       "      <td>0</td>\n",
       "      <td>...</td>\n",
       "      <td>825054</td>\n",
       "      <td>0</td>\n",
       "      <td>889537</td>\n",
       "      <td>mpeg4</td>\n",
       "      <td>56000</td>\n",
       "      <td>12.00</td>\n",
       "      <td>320</td>\n",
       "      <td>240</td>\n",
       "      <td>25164</td>\n",
       "      <td>0.980</td>\n",
       "    </tr>\n",
       "    <tr>\n",
       "      <th>2</th>\n",
       "      <td>04t6-jw9czg</td>\n",
       "      <td>130.35667</td>\n",
       "      <td>mpeg4</td>\n",
       "      <td>176</td>\n",
       "      <td>144</td>\n",
       "      <td>54590</td>\n",
       "      <td>12.000000</td>\n",
       "      <td>27</td>\n",
       "      <td>1537</td>\n",
       "      <td>0</td>\n",
       "      <td>...</td>\n",
       "      <td>825054</td>\n",
       "      <td>0</td>\n",
       "      <td>889537</td>\n",
       "      <td>mpeg4</td>\n",
       "      <td>56000</td>\n",
       "      <td>12.00</td>\n",
       "      <td>480</td>\n",
       "      <td>360</td>\n",
       "      <td>29228</td>\n",
       "      <td>1.216</td>\n",
       "    </tr>\n",
       "    <tr>\n",
       "      <th>3</th>\n",
       "      <td>04t6-jw9czg</td>\n",
       "      <td>130.35667</td>\n",
       "      <td>mpeg4</td>\n",
       "      <td>176</td>\n",
       "      <td>144</td>\n",
       "      <td>54590</td>\n",
       "      <td>12.000000</td>\n",
       "      <td>27</td>\n",
       "      <td>1537</td>\n",
       "      <td>0</td>\n",
       "      <td>...</td>\n",
       "      <td>825054</td>\n",
       "      <td>0</td>\n",
       "      <td>889537</td>\n",
       "      <td>mpeg4</td>\n",
       "      <td>56000</td>\n",
       "      <td>12.00</td>\n",
       "      <td>640</td>\n",
       "      <td>480</td>\n",
       "      <td>34316</td>\n",
       "      <td>1.692</td>\n",
       "    </tr>\n",
       "    <tr>\n",
       "      <th>4</th>\n",
       "      <td>04t6-jw9czg</td>\n",
       "      <td>130.35667</td>\n",
       "      <td>mpeg4</td>\n",
       "      <td>176</td>\n",
       "      <td>144</td>\n",
       "      <td>54590</td>\n",
       "      <td>12.000000</td>\n",
       "      <td>27</td>\n",
       "      <td>1537</td>\n",
       "      <td>0</td>\n",
       "      <td>...</td>\n",
       "      <td>825054</td>\n",
       "      <td>0</td>\n",
       "      <td>889537</td>\n",
       "      <td>mpeg4</td>\n",
       "      <td>56000</td>\n",
       "      <td>12.00</td>\n",
       "      <td>1280</td>\n",
       "      <td>720</td>\n",
       "      <td>58528</td>\n",
       "      <td>3.456</td>\n",
       "    </tr>\n",
       "    <tr>\n",
       "      <th>...</th>\n",
       "      <td>...</td>\n",
       "      <td>...</td>\n",
       "      <td>...</td>\n",
       "      <td>...</td>\n",
       "      <td>...</td>\n",
       "      <td>...</td>\n",
       "      <td>...</td>\n",
       "      <td>...</td>\n",
       "      <td>...</td>\n",
       "      <td>...</td>\n",
       "      <td>...</td>\n",
       "      <td>...</td>\n",
       "      <td>...</td>\n",
       "      <td>...</td>\n",
       "      <td>...</td>\n",
       "      <td>...</td>\n",
       "      <td>...</td>\n",
       "      <td>...</td>\n",
       "      <td>...</td>\n",
       "      <td>...</td>\n",
       "      <td>...</td>\n",
       "    </tr>\n",
       "    <tr>\n",
       "      <th>68779</th>\n",
       "      <td>ZWEN-71BqPs</td>\n",
       "      <td>972.27100</td>\n",
       "      <td>h264</td>\n",
       "      <td>480</td>\n",
       "      <td>360</td>\n",
       "      <td>278822</td>\n",
       "      <td>29.000000</td>\n",
       "      <td>560</td>\n",
       "      <td>28580</td>\n",
       "      <td>0</td>\n",
       "      <td>...</td>\n",
       "      <td>26561730</td>\n",
       "      <td>0</td>\n",
       "      <td>33886358</td>\n",
       "      <td>flv</td>\n",
       "      <td>242000</td>\n",
       "      <td>24.00</td>\n",
       "      <td>640</td>\n",
       "      <td>480</td>\n",
       "      <td>88692</td>\n",
       "      <td>1.552</td>\n",
       "    </tr>\n",
       "    <tr>\n",
       "      <th>68780</th>\n",
       "      <td>zWQN-bqqg0o</td>\n",
       "      <td>129.88100</td>\n",
       "      <td>vp8</td>\n",
       "      <td>640</td>\n",
       "      <td>480</td>\n",
       "      <td>639331</td>\n",
       "      <td>30.162790</td>\n",
       "      <td>36</td>\n",
       "      <td>3855</td>\n",
       "      <td>0</td>\n",
       "      <td>...</td>\n",
       "      <td>9503846</td>\n",
       "      <td>0</td>\n",
       "      <td>10379630</td>\n",
       "      <td>mpeg4</td>\n",
       "      <td>539000</td>\n",
       "      <td>29.97</td>\n",
       "      <td>1920</td>\n",
       "      <td>1080</td>\n",
       "      <td>107524</td>\n",
       "      <td>18.557</td>\n",
       "    </tr>\n",
       "    <tr>\n",
       "      <th>68781</th>\n",
       "      <td>zX17-vi0sqQ</td>\n",
       "      <td>249.68000</td>\n",
       "      <td>vp8</td>\n",
       "      <td>320</td>\n",
       "      <td>240</td>\n",
       "      <td>359345</td>\n",
       "      <td>25.068274</td>\n",
       "      <td>129</td>\n",
       "      <td>6113</td>\n",
       "      <td>0</td>\n",
       "      <td>...</td>\n",
       "      <td>9456514</td>\n",
       "      <td>0</td>\n",
       "      <td>11215178</td>\n",
       "      <td>flv</td>\n",
       "      <td>539000</td>\n",
       "      <td>12.00</td>\n",
       "      <td>176</td>\n",
       "      <td>144</td>\n",
       "      <td>88708</td>\n",
       "      <td>0.752</td>\n",
       "    </tr>\n",
       "    <tr>\n",
       "      <th>68782</th>\n",
       "      <td>zyiT-TzxIpk</td>\n",
       "      <td>183.62334</td>\n",
       "      <td>h264</td>\n",
       "      <td>1280</td>\n",
       "      <td>720</td>\n",
       "      <td>2847539</td>\n",
       "      <td>29.000000</td>\n",
       "      <td>98</td>\n",
       "      <td>5405</td>\n",
       "      <td>0</td>\n",
       "      <td>...</td>\n",
       "      <td>60113035</td>\n",
       "      <td>0</td>\n",
       "      <td>65359329</td>\n",
       "      <td>mpeg4</td>\n",
       "      <td>539000</td>\n",
       "      <td>12.00</td>\n",
       "      <td>320</td>\n",
       "      <td>240</td>\n",
       "      <td>88724</td>\n",
       "      <td>5.444</td>\n",
       "    </tr>\n",
       "    <tr>\n",
       "      <th>68783</th>\n",
       "      <td>zZKo-QsY86U</td>\n",
       "      <td>294.61334</td>\n",
       "      <td>mpeg4</td>\n",
       "      <td>176</td>\n",
       "      <td>144</td>\n",
       "      <td>55242</td>\n",
       "      <td>12.000000</td>\n",
       "      <td>61</td>\n",
       "      <td>3474</td>\n",
       "      <td>0</td>\n",
       "      <td>...</td>\n",
       "      <td>1950409</td>\n",
       "      <td>0</td>\n",
       "      <td>2034411</td>\n",
       "      <td>h264</td>\n",
       "      <td>820000</td>\n",
       "      <td>24.00</td>\n",
       "      <td>176</td>\n",
       "      <td>144</td>\n",
       "      <td>88736</td>\n",
       "      <td>3.076</td>\n",
       "    </tr>\n",
       "  </tbody>\n",
       "</table>\n",
       "<p>68784 rows × 22 columns</p>\n",
       "</div>"
      ],
      "text/plain": [
       "          id_video   duration  codec  width_video  height_video  bitrate  \\\n",
       "0      04t6-jw9czg  130.35667  mpeg4          176           144    54590   \n",
       "1      04t6-jw9czg  130.35667  mpeg4          176           144    54590   \n",
       "2      04t6-jw9czg  130.35667  mpeg4          176           144    54590   \n",
       "3      04t6-jw9czg  130.35667  mpeg4          176           144    54590   \n",
       "4      04t6-jw9czg  130.35667  mpeg4          176           144    54590   \n",
       "...            ...        ...    ...          ...           ...      ...   \n",
       "68779  ZWEN-71BqPs  972.27100   h264          480           360   278822   \n",
       "68780  zWQN-bqqg0o  129.88100    vp8          640           480   639331   \n",
       "68781  zX17-vi0sqQ  249.68000    vp8          320           240   359345   \n",
       "68782  zyiT-TzxIpk  183.62334   h264         1280           720  2847539   \n",
       "68783  zZKo-QsY86U  294.61334  mpeg4          176           144    55242   \n",
       "\n",
       "       framerate  number_i_frames  number_p_frames  number_b_frames  ...  \\\n",
       "0      12.000000               27             1537                0  ...   \n",
       "1      12.000000               27             1537                0  ...   \n",
       "2      12.000000               27             1537                0  ...   \n",
       "3      12.000000               27             1537                0  ...   \n",
       "4      12.000000               27             1537                0  ...   \n",
       "...          ...              ...              ...              ...  ...   \n",
       "68779  29.000000              560            28580                0  ...   \n",
       "68780  30.162790               36             3855                0  ...   \n",
       "68781  25.068274              129             6113                0  ...   \n",
       "68782  29.000000               98             5405                0  ...   \n",
       "68783  12.000000               61             3474                0  ...   \n",
       "\n",
       "         p_size  b_size  total_size  o_codec  o_bitrate o_framerate  o_width  \\\n",
       "0        825054       0      889537    mpeg4      56000       12.00      176   \n",
       "1        825054       0      889537    mpeg4      56000       12.00      320   \n",
       "2        825054       0      889537    mpeg4      56000       12.00      480   \n",
       "3        825054       0      889537    mpeg4      56000       12.00      640   \n",
       "4        825054       0      889537    mpeg4      56000       12.00     1280   \n",
       "...         ...     ...         ...      ...        ...         ...      ...   \n",
       "68779  26561730       0    33886358      flv     242000       24.00      640   \n",
       "68780   9503846       0    10379630    mpeg4     539000       29.97     1920   \n",
       "68781   9456514       0    11215178      flv     539000       12.00      176   \n",
       "68782  60113035       0    65359329    mpeg4     539000       12.00      320   \n",
       "68783   1950409       0     2034411     h264     820000       24.00      176   \n",
       "\n",
       "       o_height  codec_allocated_memory  transcoding_time  \n",
       "0           144                   22508             0.612  \n",
       "1           240                   25164             0.980  \n",
       "2           360                   29228             1.216  \n",
       "3           480                   34316             1.692  \n",
       "4           720                   58528             3.456  \n",
       "...         ...                     ...               ...  \n",
       "68779       480                   88692             1.552  \n",
       "68780      1080                  107524            18.557  \n",
       "68781       144                   88708             0.752  \n",
       "68782       240                   88724             5.444  \n",
       "68783       144                   88736             3.076  \n",
       "\n",
       "[68784 rows x 22 columns]"
      ]
     },
     "execution_count": 105,
     "metadata": {},
     "output_type": "execute_result"
    }
   ],
   "source": [
    "df_transcoding_mesurment"
   ]
  },
  {
   "cell_type": "code",
   "execution_count": 106,
   "id": "e10f7b7e",
   "metadata": {},
   "outputs": [
    {
     "data": {
      "text/plain": [
       "<AxesSubplot:>"
      ]
     },
     "execution_count": 106,
     "metadata": {},
     "output_type": "execute_result"
    },
    {
     "data": {
      "image/png": "[encoded data removed]",
      "text/plain": [
       "<Figure size 2500x2000 with 2 Axes>"
      ]
     },
     "metadata": {},
     "output_type": "display_data"
    }
   ],
   "source": [
    "corr = df_transcoding_mesurment.corr()\n",
    "# corr.plot()\n",
    "# corr.style.background_gradient(cmap='coolwarm')\n",
    "\n",
    "\n",
    "#\n",
    "# Set up the matplotlib plot configuration\n",
    "#\n",
    "f, ax = plt.subplots(figsize=(25, 20))\n",
    "#\n",
    "# Generate a mask for upper traingle\n",
    "#\n",
    "mask = np.triu(np.ones_like(corr, dtype=bool))\n",
    "#\n",
    "# Configure a custom diverging colormap\n",
    "#\n",
    "cmap = sns.diverging_palette(230, 20, as_cmap=True)\n",
    "#\n",
    "# Draw the heatmap\n",
    "#\n",
    "sns.heatmap(corr, annot=True, mask = mask, cmap=cmap)"
   ]
  },
  {
   "cell_type": "code",
   "execution_count": 107,
   "id": "328cc925",
   "metadata": {},
   "outputs": [
    {
     "data": {
      "application/vnd.plotly.v1+json": {
       "config": {
        "plotlyServerURL": "https://plot.ly"
       },
       "data": [
        {
         "alignmentgroup": "True",
         "hovertemplate": "codec=%{x}<br>y=%{y}<extra></extra>",
         "legendgroup": "flv",
         "marker": {
          "color": "#636efa",
          "pattern": {
           "shape": ""
          }
         },
         "name": "flv",
         "offsetgroup": "flv",
         "orientation": "v",
         "showlegend": true,
         "textposition": "auto",
         "type": "bar",
         "x": [
          "flv"
         ],
         "xaxis": "x",
         "y": [
          6840
         ],
         "yaxis": "y"
        },
        {
         "alignmentgroup": "True",
         "hovertemplate": "codec=%{x}<br>y=%{y}<extra></extra>",
         "legendgroup": "h264",
         "marker": {
          "color": "#EF553B",
          "pattern": {
           "shape": ""
          }
         },
         "name": "h264",
         "offsetgroup": "h264",
         "orientation": "v",
         "showlegend": true,
         "textposition": "auto",
         "type": "bar",
         "x": [
          "h264"
         ],
         "xaxis": "x",
         "y": [
          31545
         ],
         "yaxis": "y"
        },
        {
         "alignmentgroup": "True",
         "hovertemplate": "codec=%{x}<br>y=%{y}<extra></extra>",
         "legendgroup": "mpeg4",
         "marker": {
          "color": "#00cc96",
          "pattern": {
           "shape": ""
          }
         },
         "name": "mpeg4",
         "offsetgroup": "mpeg4",
         "orientation": "v",
         "showlegend": true,
         "textposition": "auto",
         "type": "bar",
         "x": [
          "mpeg4"
         ],
         "xaxis": "x",
         "y": [
          12012
         ],
         "yaxis": "y"
        },
        {
         "alignmentgroup": "True",
         "hovertemplate": "codec=%{x}<br>y=%{y}<extra></extra>",
         "legendgroup": "vp8",
         "marker": {
          "color": "#ab63fa",
          "pattern": {
           "shape": ""
          }
         },
         "name": "vp8",
         "offsetgroup": "vp8",
         "orientation": "v",
         "showlegend": true,
         "textposition": "auto",
         "type": "bar",
         "x": [
          "vp8"
         ],
         "xaxis": "x",
         "y": [
          18387
         ],
         "yaxis": "y"
        }
       ],
       "layout": {
        "barmode": "relative",
        "legend": {
         "title": {
          "text": "codec"
         },
         "tracegroupgap": 0
        },
        "template": {
         "data": {
          "bar": [
           {
            "error_x": {
             "color": "#2a3f5f"
            },
            "error_y": {
             "color": "#2a3f5f"
            },
            "marker": {
             "line": {
              "color": "#E5ECF6",
              "width": 0.5
             },
             "pattern": {
              "fillmode": "overlay",
              "size": 10,
              "solidity": 0.2
             }
            },
            "type": "bar"
           }
          ],
          "barpolar": [
           {
            "marker": {
             "line": {
              "color": "#E5ECF6",
              "width": 0.5
             },
             "pattern": {
              "fillmode": "overlay",
              "size": 10,
              "solidity": 0.2
             }
            },
            "type": "barpolar"
           }
          ],
          "carpet": [
           {
            "aaxis": {
             "endlinecolor": "#2a3f5f",
             "gridcolor": "white",
             "linecolor": "white",
             "minorgridcolor": "white",
             "startlinecolor": "#2a3f5f"
            },
            "baxis": {
             "endlinecolor": "#2a3f5f",
             "gridcolor": "white",
             "linecolor": "white",
             "minorgridcolor": "white",
             "startlinecolor": "#2a3f5f"
            },
            "type": "carpet"
           }
          ],
          "choropleth": [
           {
            "colorbar": {
             "outlinewidth": 0,
             "ticks": ""
            },
            "type": "choropleth"
           }
          ],
          "contour": [
           {
            "colorbar": {
             "outlinewidth": 0,
             "ticks": ""
            },
            "colorscale": [
             [
              0,
              "#0d0887"
             ],
             [
              0.1111111111111111,
              "#46039f"
             ],
             [
              0.2222222222222222,
              "#7201a8"
             ],
             [
              0.3333333333333333,
              "#9c179e"
             ],
             [
              0.4444444444444444,
              "#bd3786"
             ],
             [
              0.5555555555555556,
              "#d8576b"
             ],
             [
              0.6666666666666666,
              "#ed7953"
             ],
             [
              0.7777777777777778,
              "#fb9f3a"
             ],
             [
              0.8888888888888888,
              "#fdca26"
             ],
             [
              1,
              "#f0f921"
             ]
            ],
            "type": "contour"
           }
          ],
          "contourcarpet": [
           {
            "colorbar": {
             "outlinewidth": 0,
             "ticks": ""
            },
            "type": "contourcarpet"
           }
          ],
          "heatmap": [
           {
            "colorbar": {
             "outlinewidth": 0,
             "ticks": ""
            },
            "colorscale": [
             [
              0,
              "#0d0887"
             ],
             [
              0.1111111111111111,
              "#46039f"
             ],
             [
              0.2222222222222222,
              "#7201a8"
             ],
             [
              0.3333333333333333,
              "#9c179e"
             ],
             [
              0.4444444444444444,
              "#bd3786"
             ],
             [
              0.5555555555555556,
              "#d8576b"
             ],
             [
              0.6666666666666666,
              "#ed7953"
             ],
             [
              0.7777777777777778,
              "#fb9f3a"
             ],
             [
              0.8888888888888888,
              "#fdca26"
             ],
             [
              1,
              "#f0f921"
             ]
            ],
            "type": "heatmap"
           }
          ],
          "heatmapgl": [
           {
            "colorbar": {
             "outlinewidth": 0,
             "ticks": ""
            },
            "colorscale": [
             [
              0,
              "#0d0887"
             ],
             [
              0.1111111111111111,
              "#46039f"
             ],
             [
              0.2222222222222222,
              "#7201a8"
             ],
             [
              0.3333333333333333,
              "#9c179e"
             ],
             [
              0.4444444444444444,
              "#bd3786"
             ],
             [
              0.5555555555555556,
              "#d8576b"
             ],
             [
              0.6666666666666666,
              "#ed7953"
             ],
             [
              0.7777777777777778,
              "#fb9f3a"
             ],
             [
              0.8888888888888888,
              "#fdca26"
             ],
             [
              1,
              "#f0f921"
             ]
            ],
            "type": "heatmapgl"
           }
          ],
          "histogram": [
           {
            "marker": {
             "pattern": {
              "fillmode": "overlay",
              "size": 10,
              "solidity": 0.2
             }
            },
            "type": "histogram"
           }
          ],
          "histogram2d": [
           {
            "colorbar": {
             "outlinewidth": 0,
             "ticks": ""
            },
            "colorscale": [
             [
              0,
              "#0d0887"
             ],
             [
              0.1111111111111111,
              "#46039f"
             ],
             [
              0.2222222222222222,
              "#7201a8"
             ],
             [
              0.3333333333333333,
              "#9c179e"
             ],
             [
              0.4444444444444444,
              "#bd3786"
             ],
             [
              0.5555555555555556,
              "#d8576b"
             ],
             [
              0.6666666666666666,
              "#ed7953"
             ],
             [
              0.7777777777777778,
              "#fb9f3a"
             ],
             [
              0.8888888888888888,
              "#fdca26"
             ],
             [
              1,
              "#f0f921"
             ]
            ],
            "type": "histogram2d"
           }
          ],
          "histogram2dcontour": [
           {
            "colorbar": {
             "outlinewidth": 0,
             "ticks": ""
            },
            "colorscale": [
             [
              0,
              "#0d0887"
             ],
             [
              0.1111111111111111,
              "#46039f"
             ],
             [
              0.2222222222222222,
              "#7201a8"
             ],
             [
              0.3333333333333333,
              "#9c179e"
             ],
             [
              0.4444444444444444,
              "#bd3786"
             ],
             [
              0.5555555555555556,
              "#d8576b"
             ],
             [
              0.6666666666666666,
              "#ed7953"
             ],
             [
              0.7777777777777778,
              "#fb9f3a"
             ],
             [
              0.8888888888888888,
              "#fdca26"
             ],
             [
              1,
              "#f0f921"
             ]
            ],
            "type": "histogram2dcontour"
           }
          ],
          "mesh3d": [
           {
            "colorbar": {
             "outlinewidth": 0,
             "ticks": ""
            },
            "type": "mesh3d"
           }
          ],
          "parcoords": [
           {
            "line": {
             "colorbar": {
              "outlinewidth": 0,
              "ticks": ""
             }
            },
            "type": "parcoords"
           }
          ],
          "pie": [
           {
            "automargin": true,
            "type": "pie"
           }
          ],
          "scatter": [
           {
            "fillpattern": {
             "fillmode": "overlay",
             "size": 10,
             "solidity": 0.2
            },
            "type": "scatter"
           }
          ],
          "scatter3d": [
           {
            "line": {
             "colorbar": {
              "outlinewidth": 0,
              "ticks": ""
             }
            },
            "marker": {
             "colorbar": {
              "outlinewidth": 0,
              "ticks": ""
             }
            },
            "type": "scatter3d"
           }
          ],
          "scattercarpet": [
           {
            "marker": {
             "colorbar": {
              "outlinewidth": 0,
              "ticks": ""
             }
            },
            "type": "scattercarpet"
           }
          ],
          "scattergeo": [
           {
            "marker": {
             "colorbar": {
              "outlinewidth": 0,
              "ticks": ""
             }
            },
            "type": "scattergeo"
           }
          ],
          "scattergl": [
           {
            "marker": {
             "colorbar": {
              "outlinewidth": 0,
              "ticks": ""
             }
            },
            "type": "scattergl"
           }
          ],
          "scattermapbox": [
           {
            "marker": {
             "colorbar": {
              "outlinewidth": 0,
              "ticks": ""
             }
            },
            "type": "scattermapbox"
           }
          ],
          "scatterpolar": [
           {
            "marker": {
             "colorbar": {
              "outlinewidth": 0,
              "ticks": ""
             }
            },
            "type": "scatterpolar"
           }
          ],
          "scatterpolargl": [
           {
            "marker": {
             "colorbar": {
              "outlinewidth": 0,
              "ticks": ""
             }
            },
            "type": "scatterpolargl"
           }
          ],
          "scatterternary": [
           {
            "marker": {
             "colorbar": {
              "outlinewidth": 0,
              "ticks": ""
             }
            },
            "type": "scatterternary"
           }
          ],
          "surface": [
           {
            "colorbar": {
             "outlinewidth": 0,
             "ticks": ""
            },
            "colorscale": [
             [
              0,
              "#0d0887"
             ],
             [
              0.1111111111111111,
              "#46039f"
             ],
             [
              0.2222222222222222,
              "#7201a8"
             ],
             [
              0.3333333333333333,
              "#9c179e"
             ],
             [
              0.4444444444444444,
              "#bd3786"
             ],
             [
              0.5555555555555556,
              "#d8576b"
             ],
             [
              0.6666666666666666,
              "#ed7953"
             ],
             [
              0.7777777777777778,
              "#fb9f3a"
             ],
             [
              0.8888888888888888,
              "#fdca26"
             ],
             [
              1,
              "#f0f921"
             ]
            ],
            "type": "surface"
           }
          ],
          "table": [
           {
            "cells": {
             "fill": {
              "color": "#EBF0F8"
             },
             "line": {
              "color": "white"
             }
            },
            "header": {
             "fill": {
              "color": "#C8D4E3"
             },
             "line": {
              "color": "white"
             }
            },
            "type": "table"
           }
          ]
         },
         "layout": {
          "annotationdefaults": {
           "arrowcolor": "#2a3f5f",
           "arrowhead": 0,
           "arrowwidth": 1
          },
          "autotypenumbers": "strict",
          "coloraxis": {
           "colorbar": {
            "outlinewidth": 0,
            "ticks": ""
           }
          },
          "colorscale": {
           "diverging": [
            [
             0,
             "#8e0152"
            ],
            [
             0.1,
             "#c51b7d"
            ],
            [
             0.2,
             "#de77ae"
            ],
            [
             0.3,
             "#f1b6da"
            ],
            [
             0.4,
             "#fde0ef"
            ],
            [
             0.5,
             "#f7f7f7"
            ],
            [
             0.6,
             "#e6f5d0"
            ],
            [
             0.7,
             "#b8e186"
            ],
            [
             0.8,
             "#7fbc41"
            ],
            [
             0.9,
             "#4d9221"
            ],
            [
             1,
             "#276419"
            ]
           ],
           "sequential": [
            [
             0,
             "#0d0887"
            ],
            [
             0.1111111111111111,
             "#46039f"
            ],
            [
             0.2222222222222222,
             "#7201a8"
            ],
            [
             0.3333333333333333,
             "#9c179e"
            ],
            [
             0.4444444444444444,
             "#bd3786"
            ],
            [
             0.5555555555555556,
             "#d8576b"
            ],
            [
             0.6666666666666666,
             "#ed7953"
            ],
            [
             0.7777777777777778,
             "#fb9f3a"
            ],
            [
             0.8888888888888888,
             "#fdca26"
            ],
            [
             1,
             "#f0f921"
            ]
           ],
           "sequentialminus": [
            [
             0,
             "#0d0887"
            ],
            [
             0.1111111111111111,
             "#46039f"
            ],
            [
             0.2222222222222222,
             "#7201a8"
            ],
            [
             0.3333333333333333,
             "#9c179e"
            ],
            [
             0.4444444444444444,
             "#bd3786"
            ],
            [
             0.5555555555555556,
             "#d8576b"
            ],
            [
             0.6666666666666666,
             "#ed7953"
            ],
            [
             0.7777777777777778,
             "#fb9f3a"
            ],
            [
             0.8888888888888888,
             "#fdca26"
            ],
            [
             1,
             "#f0f921"
            ]
           ]
          },
          "colorway": [
           "#636efa",
           "#EF553B",
           "#00cc96",
           "#ab63fa",
           "#FFA15A",
           "#19d3f3",
           "#FF6692",
           "#B6E880",
           "#FF97FF",
           "#FECB52"
          ],
          "font": {
           "color": "#2a3f5f"
          },
          "geo": {
           "bgcolor": "white",
           "lakecolor": "white",
           "landcolor": "#E5ECF6",
           "showlakes": true,
           "showland": true,
           "subunitcolor": "white"
          },
          "hoverlabel": {
           "align": "left"
          },
          "hovermode": "closest",
          "mapbox": {
           "style": "light"
          },
          "paper_bgcolor": "white",
          "plot_bgcolor": "#E5ECF6",
          "polar": {
           "angularaxis": {
            "gridcolor": "white",
            "linecolor": "white",
            "ticks": ""
           },
           "bgcolor": "#E5ECF6",
           "radialaxis": {
            "gridcolor": "white",
            "linecolor": "white",
            "ticks": ""
           }
          },
          "scene": {
           "xaxis": {
            "backgroundcolor": "#E5ECF6",
            "gridcolor": "white",
            "gridwidth": 2,
            "linecolor": "white",
            "showbackground": true,
            "ticks": "",
            "zerolinecolor": "white"
           },
           "yaxis": {
            "backgroundcolor": "#E5ECF6",
            "gridcolor": "white",
            "gridwidth": 2,
            "linecolor": "white",
            "showbackground": true,
            "ticks": "",
            "zerolinecolor": "white"
           },
           "zaxis": {
            "backgroundcolor": "#E5ECF6",
            "gridcolor": "white",
            "gridwidth": 2,
            "linecolor": "white",
            "showbackground": true,
            "ticks": "",
            "zerolinecolor": "white"
           }
          },
          "shapedefaults": {
           "line": {
            "color": "#2a3f5f"
           }
          },
          "ternary": {
           "aaxis": {
            "gridcolor": "white",
            "linecolor": "white",
            "ticks": ""
           },
           "baxis": {
            "gridcolor": "white",
            "linecolor": "white",
            "ticks": ""
           },
           "bgcolor": "#E5ECF6",
           "caxis": {
            "gridcolor": "white",
            "linecolor": "white",
            "ticks": ""
           }
          },
          "title": {
           "x": 0.05
          },
          "xaxis": {
           "automargin": true,
           "gridcolor": "white",
           "linecolor": "white",
           "ticks": "",
           "title": {
            "standoff": 15
           },
           "zerolinecolor": "white",
           "zerolinewidth": 2
          },
          "yaxis": {
           "automargin": true,
           "gridcolor": "white",
           "linecolor": "white",
           "ticks": "",
           "title": {
            "standoff": 15
           },
           "zerolinecolor": "white",
           "zerolinewidth": 2
          }
         }
        },
        "title": {
         "text": "Number of Video per type of codec"
        },
        "uniformtext": {
         "minsize": 20,
         "mode": "hide"
        },
        "xaxis": {
         "anchor": "y",
         "categoryarray": [
          "flv",
          "h264",
          "mpeg4",
          "vp8"
         ],
         "categoryorder": "array",
         "domain": [
          0,
          1
         ],
         "range": [
          0,
          6
         ],
         "title": {
          "text": "codec"
         }
        },
        "yaxis": {
         "anchor": "x",
         "categoryorder": "total ascending",
         "domain": [
          0,
          1
         ],
         "title": {
          "text": "Number of Video"
         }
        }
       }
      }
     },
     "metadata": {},
     "output_type": "display_data"
    }
   ],
   "source": [
    "df_categorie=pd.DataFrame(df_transcoding_mesurment,columns=['codec'])\n",
    "temp=df_transcoding_mesurment.groupby('codec').size()\n",
    "\n",
    "fig=px.bar(temp,\n",
    "           x=temp.index,\n",
    "           y=temp, \n",
    "           range_x = [0,6],color=temp.index,\n",
    "           title=\"Number of Video per type of codec\")\n",
    "\n",
    "fig.update_layout(xaxis_title=\"codec\", yaxis_title=\"Number of Video\", \n",
    "                      yaxis_categoryorder = 'total ascending',\n",
    "                      uniformtext_minsize=20, uniformtext_mode='hide')\n",
    "\n",
    "fig.show()"
   ]
  },
  {
   "cell_type": "code",
   "execution_count": 108,
   "id": "bc715822",
   "metadata": {},
   "outputs": [
    {
     "data": {
      "application/vnd.plotly.v1+json": {
       "config": {
        "plotlyServerURL": "https://plot.ly"
       },
       "data": [
        {
         "alignmentgroup": "True",
         "hovertemplate": "o_codec=%{x}<br>y=%{y}<extra></extra>",
         "legendgroup": "flv",
         "marker": {
          "color": "#636efa",
          "pattern": {
           "shape": ""
          }
         },
         "name": "flv",
         "offsetgroup": "flv",
         "orientation": "v",
         "showlegend": true,
         "textposition": "auto",
         "type": "bar",
         "x": [
          "flv"
         ],
         "xaxis": "x",
         "y": [
          17135
         ],
         "yaxis": "y"
        },
        {
         "alignmentgroup": "True",
         "hovertemplate": "o_codec=%{x}<br>y=%{y}<extra></extra>",
         "legendgroup": "h264",
         "marker": {
          "color": "#EF553B",
          "pattern": {
           "shape": ""
          }
         },
         "name": "h264",
         "offsetgroup": "h264",
         "orientation": "v",
         "showlegend": true,
         "textposition": "auto",
         "type": "bar",
         "x": [
          "h264"
         ],
         "xaxis": "x",
         "y": [
          17081
         ],
         "yaxis": "y"
        },
        {
         "alignmentgroup": "True",
         "hovertemplate": "o_codec=%{x}<br>y=%{y}<extra></extra>",
         "legendgroup": "mpeg4",
         "marker": {
          "color": "#00cc96",
          "pattern": {
           "shape": ""
          }
         },
         "name": "mpeg4",
         "offsetgroup": "mpeg4",
         "orientation": "v",
         "showlegend": true,
         "textposition": "auto",
         "type": "bar",
         "x": [
          "mpeg4"
         ],
         "xaxis": "x",
         "y": [
          17291
         ],
         "yaxis": "y"
        },
        {
         "alignmentgroup": "True",
         "hovertemplate": "o_codec=%{x}<br>y=%{y}<extra></extra>",
         "legendgroup": "vp8",
         "marker": {
          "color": "#ab63fa",
          "pattern": {
           "shape": ""
          }
         },
         "name": "vp8",
         "offsetgroup": "vp8",
         "orientation": "v",
         "showlegend": true,
         "textposition": "auto",
         "type": "bar",
         "x": [
          "vp8"
         ],
         "xaxis": "x",
         "y": [
          17277
         ],
         "yaxis": "y"
        }
       ],
       "layout": {
        "barmode": "relative",
        "legend": {
         "title": {
          "text": "o_codec"
         },
         "tracegroupgap": 0
        },
        "template": {
         "data": {
          "bar": [
           {
            "error_x": {
             "color": "#2a3f5f"
            },
            "error_y": {
             "color": "#2a3f5f"
            },
            "marker": {
             "line": {
              "color": "#E5ECF6",
              "width": 0.5
             },
             "pattern": {
              "fillmode": "overlay",
              "size": 10,
              "solidity": 0.2
             }
            },
            "type": "bar"
           }
          ],
          "barpolar": [
           {
            "marker": {
             "line": {
              "color": "#E5ECF6",
              "width": 0.5
             },
             "pattern": {
              "fillmode": "overlay",
              "size": 10,
              "solidity": 0.2
             }
            },
            "type": "barpolar"
           }
          ],
          "carpet": [
           {
            "aaxis": {
             "endlinecolor": "#2a3f5f",
             "gridcolor": "white",
             "linecolor": "white",
             "minorgridcolor": "white",
             "startlinecolor": "#2a3f5f"
            },
            "baxis": {
             "endlinecolor": "#2a3f5f",
             "gridcolor": "white",
             "linecolor": "white",
             "minorgridcolor": "white",
             "startlinecolor": "#2a3f5f"
            },
            "type": "carpet"
           }
          ],
          "choropleth": [
           {
            "colorbar": {
             "outlinewidth": 0,
             "ticks": ""
            },
            "type": "choropleth"
           }
          ],
          "contour": [
           {
            "colorbar": {
             "outlinewidth": 0,
             "ticks": ""
            },
            "colorscale": [
             [
              0,
              "#0d0887"
             ],
             [
              0.1111111111111111,
              "#46039f"
             ],
             [
              0.2222222222222222,
              "#7201a8"
             ],
             [
              0.3333333333333333,
              "#9c179e"
             ],
             [
              0.4444444444444444,
              "#bd3786"
             ],
             [
              0.5555555555555556,
              "#d8576b"
             ],
             [
              0.6666666666666666,
              "#ed7953"
             ],
             [
              0.7777777777777778,
              "#fb9f3a"
             ],
             [
              0.8888888888888888,
              "#fdca26"
             ],
             [
              1,
              "#f0f921"
             ]
            ],
            "type": "contour"
           }
          ],
          "contourcarpet": [
           {
            "colorbar": {
             "outlinewidth": 0,
             "ticks": ""
            },
            "type": "contourcarpet"
           }
          ],
          "heatmap": [
           {
            "colorbar": {
             "outlinewidth": 0,
             "ticks": ""
            },
            "colorscale": [
             [
              0,
              "#0d0887"
             ],
             [
              0.1111111111111111,
              "#46039f"
             ],
             [
              0.2222222222222222,
              "#7201a8"
             ],
             [
              0.3333333333333333,
              "#9c179e"
             ],
             [
              0.4444444444444444,
              "#bd3786"
             ],
             [
              0.5555555555555556,
              "#d8576b"
             ],
             [
              0.6666666666666666,
              "#ed7953"
             ],
             [
              0.7777777777777778,
              "#fb9f3a"
             ],
             [
              0.8888888888888888,
              "#fdca26"
             ],
             [
              1,
              "#f0f921"
             ]
            ],
            "type": "heatmap"
           }
          ],
          "heatmapgl": [
           {
            "colorbar": {
             "outlinewidth": 0,
             "ticks": ""
            },
            "colorscale": [
             [
              0,
              "#0d0887"
             ],
             [
              0.1111111111111111,
              "#46039f"
             ],
             [
              0.2222222222222222,
              "#7201a8"
             ],
             [
              0.3333333333333333,
              "#9c179e"
             ],
             [
              0.4444444444444444,
              "#bd3786"
             ],
             [
              0.5555555555555556,
              "#d8576b"
             ],
             [
              0.6666666666666666,
              "#ed7953"
             ],
             [
              0.7777777777777778,
              "#fb9f3a"
             ],
             [
              0.8888888888888888,
              "#fdca26"
             ],
             [
              1,
              "#f0f921"
             ]
            ],
            "type": "heatmapgl"
           }
          ],
          "histogram": [
           {
            "marker": {
             "pattern": {
              "fillmode": "overlay",
              "size": 10,
              "solidity": 0.2
             }
            },
            "type": "histogram"
           }
          ],
          "histogram2d": [
           {
            "colorbar": {
             "outlinewidth": 0,
             "ticks": ""
            },
            "colorscale": [
             [
              0,
              "#0d0887"
             ],
             [
              0.1111111111111111,
              "#46039f"
             ],
             [
              0.2222222222222222,
              "#7201a8"
             ],
             [
              0.3333333333333333,
              "#9c179e"
             ],
             [
              0.4444444444444444,
              "#bd3786"
             ],
             [
              0.5555555555555556,
              "#d8576b"
             ],
             [
              0.6666666666666666,
              "#ed7953"
             ],
             [
              0.7777777777777778,
              "#fb9f3a"
             ],
             [
              0.8888888888888888,
              "#fdca26"
             ],
             [
              1,
              "#f0f921"
             ]
            ],
            "type": "histogram2d"
           }
          ],
          "histogram2dcontour": [
           {
            "colorbar": {
             "outlinewidth": 0,
             "ticks": ""
            },
            "colorscale": [
             [
              0,
              "#0d0887"
             ],
             [
              0.1111111111111111,
              "#46039f"
             ],
             [
              0.2222222222222222,
              "#7201a8"
             ],
             [
              0.3333333333333333,
              "#9c179e"
             ],
             [
              0.4444444444444444,
              "#bd3786"
             ],
             [
              0.5555555555555556,
              "#d8576b"
             ],
             [
              0.6666666666666666,
              "#ed7953"
             ],
             [
              0.7777777777777778,
              "#fb9f3a"
             ],
             [
              0.8888888888888888,
              "#fdca26"
             ],
             [
              1,
              "#f0f921"
             ]
            ],
            "type": "histogram2dcontour"
           }
          ],
          "mesh3d": [
           {
            "colorbar": {
             "outlinewidth": 0,
             "ticks": ""
            },
            "type": "mesh3d"
           }
          ],
          "parcoords": [
           {
            "line": {
             "colorbar": {
              "outlinewidth": 0,
              "ticks": ""
             }
            },
            "type": "parcoords"
           }
          ],
          "pie": [
           {
            "automargin": true,
            "type": "pie"
           }
          ],
          "scatter": [
           {
            "fillpattern": {
             "fillmode": "overlay",
             "size": 10,
             "solidity": 0.2
            },
            "type": "scatter"
           }
          ],
          "scatter3d": [
           {
            "line": {
             "colorbar": {
              "outlinewidth": 0,
              "ticks": ""
             }
            },
            "marker": {
             "colorbar": {
              "outlinewidth": 0,
              "ticks": ""
             }
            },
            "type": "scatter3d"
           }
          ],
          "scattercarpet": [
           {
            "marker": {
             "colorbar": {
              "outlinewidth": 0,
              "ticks": ""
             }
            },
            "type": "scattercarpet"
           }
          ],
          "scattergeo": [
           {
            "marker": {
             "colorbar": {
              "outlinewidth": 0,
              "ticks": ""
             }
            },
            "type": "scattergeo"
           }
          ],
          "scattergl": [
           {
            "marker": {
             "colorbar": {
              "outlinewidth": 0,
              "ticks": ""
             }
            },
            "type": "scattergl"
           }
          ],
          "scattermapbox": [
           {
            "marker": {
             "colorbar": {
              "outlinewidth": 0,
              "ticks": ""
             }
            },
            "type": "scattermapbox"
           }
          ],
          "scatterpolar": [
           {
            "marker": {
             "colorbar": {
              "outlinewidth": 0,
              "ticks": ""
             }
            },
            "type": "scatterpolar"
           }
          ],
          "scatterpolargl": [
           {
            "marker": {
             "colorbar": {
              "outlinewidth": 0,
              "ticks": ""
             }
            },
            "type": "scatterpolargl"
           }
          ],
          "scatterternary": [
           {
            "marker": {
             "colorbar": {
              "outlinewidth": 0,
              "ticks": ""
             }
            },
            "type": "scatterternary"
           }
          ],
          "surface": [
           {
            "colorbar": {
             "outlinewidth": 0,
             "ticks": ""
            },
            "colorscale": [
             [
              0,
              "#0d0887"
             ],
             [
              0.1111111111111111,
              "#46039f"
             ],
             [
              0.2222222222222222,
              "#7201a8"
             ],
             [
              0.3333333333333333,
              "#9c179e"
             ],
             [
              0.4444444444444444,
              "#bd3786"
             ],
             [
              0.5555555555555556,
              "#d8576b"
             ],
             [
              0.6666666666666666,
              "#ed7953"
             ],
             [
              0.7777777777777778,
              "#fb9f3a"
             ],
             [
              0.8888888888888888,
              "#fdca26"
             ],
             [
              1,
              "#f0f921"
             ]
            ],
            "type": "surface"
           }
          ],
          "table": [
           {
            "cells": {
             "fill": {
              "color": "#EBF0F8"
             },
             "line": {
              "color": "white"
             }
            },
            "header": {
             "fill": {
              "color": "#C8D4E3"
             },
             "line": {
              "color": "white"
             }
            },
            "type": "table"
           }
          ]
         },
         "layout": {
          "annotationdefaults": {
           "arrowcolor": "#2a3f5f",
           "arrowhead": 0,
           "arrowwidth": 1
          },
          "autotypenumbers": "strict",
          "coloraxis": {
           "colorbar": {
            "outlinewidth": 0,
            "ticks": ""
           }
          },
          "colorscale": {
           "diverging": [
            [
             0,
             "#8e0152"
            ],
            [
             0.1,
             "#c51b7d"
            ],
            [
             0.2,
             "#de77ae"
            ],
            [
             0.3,
             "#f1b6da"
            ],
            [
             0.4,
             "#fde0ef"
            ],
            [
             0.5,
             "#f7f7f7"
            ],
            [
             0.6,
             "#e6f5d0"
            ],
            [
             0.7,
             "#b8e186"
            ],
            [
             0.8,
             "#7fbc41"
            ],
            [
             0.9,
             "#4d9221"
            ],
            [
             1,
             "#276419"
            ]
           ],
           "sequential": [
            [
             0,
             "#0d0887"
            ],
            [
             0.1111111111111111,
             "#46039f"
            ],
            [
             0.2222222222222222,
             "#7201a8"
            ],
            [
             0.3333333333333333,
             "#9c179e"
            ],
            [
             0.4444444444444444,
             "#bd3786"
            ],
            [
             0.5555555555555556,
             "#d8576b"
            ],
            [
             0.6666666666666666,
             "#ed7953"
            ],
            [
             0.7777777777777778,
             "#fb9f3a"
            ],
            [
             0.8888888888888888,
             "#fdca26"
            ],
            [
             1,
             "#f0f921"
            ]
           ],
           "sequentialminus": [
            [
             0,
             "#0d0887"
            ],
            [
             0.1111111111111111,
             "#46039f"
            ],
            [
             0.2222222222222222,
             "#7201a8"
            ],
            [
             0.3333333333333333,
             "#9c179e"
            ],
            [
             0.4444444444444444,
             "#bd3786"
            ],
            [
             0.5555555555555556,
             "#d8576b"
            ],
            [
             0.6666666666666666,
             "#ed7953"
            ],
            [
             0.7777777777777778,
             "#fb9f3a"
            ],
            [
             0.8888888888888888,
             "#fdca26"
            ],
            [
             1,
             "#f0f921"
            ]
           ]
          },
          "colorway": [
           "#636efa",
           "#EF553B",
           "#00cc96",
           "#ab63fa",
           "#FFA15A",
           "#19d3f3",
           "#FF6692",
           "#B6E880",
           "#FF97FF",
           "#FECB52"
          ],
          "font": {
           "color": "#2a3f5f"
          },
          "geo": {
           "bgcolor": "white",
           "lakecolor": "white",
           "landcolor": "#E5ECF6",
           "showlakes": true,
           "showland": true,
           "subunitcolor": "white"
          },
          "hoverlabel": {
           "align": "left"
          },
          "hovermode": "closest",
          "mapbox": {
           "style": "light"
          },
          "paper_bgcolor": "white",
          "plot_bgcolor": "#E5ECF6",
          "polar": {
           "angularaxis": {
            "gridcolor": "white",
            "linecolor": "white",
            "ticks": ""
           },
           "bgcolor": "#E5ECF6",
           "radialaxis": {
            "gridcolor": "white",
            "linecolor": "white",
            "ticks": ""
           }
          },
          "scene": {
           "xaxis": {
            "backgroundcolor": "#E5ECF6",
            "gridcolor": "white",
            "gridwidth": 2,
            "linecolor": "white",
            "showbackground": true,
            "ticks": "",
            "zerolinecolor": "white"
           },
           "yaxis": {
            "backgroundcolor": "#E5ECF6",
            "gridcolor": "white",
            "gridwidth": 2,
            "linecolor": "white",
            "showbackground": true,
            "ticks": "",
            "zerolinecolor": "white"
           },
           "zaxis": {
            "backgroundcolor": "#E5ECF6",
            "gridcolor": "white",
            "gridwidth": 2,
            "linecolor": "white",
            "showbackground": true,
            "ticks": "",
            "zerolinecolor": "white"
           }
          },
          "shapedefaults": {
           "line": {
            "color": "#2a3f5f"
           }
          },
          "ternary": {
           "aaxis": {
            "gridcolor": "white",
            "linecolor": "white",
            "ticks": ""
           },
           "baxis": {
            "gridcolor": "white",
            "linecolor": "white",
            "ticks": ""
           },
           "bgcolor": "#E5ECF6",
           "caxis": {
            "gridcolor": "white",
            "linecolor": "white",
            "ticks": ""
           }
          },
          "title": {
           "x": 0.05
          },
          "xaxis": {
           "automargin": true,
           "gridcolor": "white",
           "linecolor": "white",
           "ticks": "",
           "title": {
            "standoff": 15
           },
           "zerolinecolor": "white",
           "zerolinewidth": 2
          },
          "yaxis": {
           "automargin": true,
           "gridcolor": "white",
           "linecolor": "white",
           "ticks": "",
           "title": {
            "standoff": 15
           },
           "zerolinecolor": "white",
           "zerolinewidth": 2
          }
         }
        },
        "title": {
         "text": "Number of Video per type of codec after transcoding"
        },
        "uniformtext": {
         "minsize": 20,
         "mode": "hide"
        },
        "xaxis": {
         "anchor": "y",
         "categoryarray": [
          "flv",
          "h264",
          "mpeg4",
          "vp8"
         ],
         "categoryorder": "array",
         "domain": [
          0,
          1
         ],
         "range": [
          0,
          16
         ],
         "title": {
          "text": "codec"
         }
        },
        "yaxis": {
         "anchor": "x",
         "categoryorder": "total ascending",
         "domain": [
          0,
          1
         ],
         "title": {
          "text": "Number of Video"
         }
        }
       }
      }
     },
     "metadata": {},
     "output_type": "display_data"
    }
   ],
   "source": [
    "df_categorie=pd.DataFrame(df_transcoding_mesurment,columns=['o_codec'])\n",
    "temp=df_transcoding_mesurment.groupby('o_codec').size()\n",
    "\n",
    "fig=px.bar(temp,\n",
    "           x=temp.index,\n",
    "           y=temp, \n",
    "           range_x = [0,16],color=temp.index,\n",
    "           title=\"Number of Video per type of codec after transcoding\")\n",
    "\n",
    "fig.update_layout(xaxis_title=\"codec\", yaxis_title=\"Number of Video\", \n",
    "                      yaxis_categoryorder = 'total ascending',\n",
    "                      uniformtext_minsize=20, uniformtext_mode='hide')\n",
    "\n",
    "fig.show()"
   ]
  },
  {
   "cell_type": "code",
   "execution_count": 109,
   "id": "9deb0f4c",
   "metadata": {},
   "outputs": [
    {
     "data": {
      "text/html": [
       "<div>\n",
       "<style scoped>\n",
       "    .dataframe tbody tr th:only-of-type {\n",
       "        vertical-align: middle;\n",
       "    }\n",
       "\n",
       "    .dataframe tbody tr th {\n",
       "        vertical-align: top;\n",
       "    }\n",
       "\n",
       "    .dataframe thead th {\n",
       "        text-align: right;\n",
       "    }\n",
       "</style>\n",
       "<table border=\"1\" class=\"dataframe\">\n",
       "  <thead>\n",
       "    <tr style=\"text-align: right;\">\n",
       "      <th></th>\n",
       "      <th>id_video</th>\n",
       "      <th>duration</th>\n",
       "      <th>bitrate</th>\n",
       "      <th>bitrate(video)</th>\n",
       "      <th>height_video</th>\n",
       "      <th>width_video</th>\n",
       "      <th>framerate</th>\n",
       "      <th>framerate(est.)</th>\n",
       "      <th>category_video</th>\n",
       "      <th>url</th>\n",
       "      <th>codec_flv1</th>\n",
       "      <th>codec_h264</th>\n",
       "      <th>codec_mpeg4</th>\n",
       "      <th>codec_none</th>\n",
       "      <th>codec_vp8</th>\n",
       "    </tr>\n",
       "  </thead>\n",
       "  <tbody>\n",
       "    <tr>\n",
       "      <th>0</th>\n",
       "      <td>uDNj-_5ty48</td>\n",
       "      <td>267</td>\n",
       "      <td>373</td>\n",
       "      <td>274</td>\n",
       "      <td>568</td>\n",
       "      <td>320</td>\n",
       "      <td>29.97</td>\n",
       "      <td>0.00</td>\n",
       "      <td>Music</td>\n",
       "      <td>http://r2---sn-ovgq0oxu-5goe.c.youtube.com/vid...</td>\n",
       "      <td>0</td>\n",
       "      <td>1</td>\n",
       "      <td>0</td>\n",
       "      <td>0</td>\n",
       "      <td>0</td>\n",
       "    </tr>\n",
       "    <tr>\n",
       "      <th>1</th>\n",
       "      <td>uDNj-_5ty48</td>\n",
       "      <td>267</td>\n",
       "      <td>512</td>\n",
       "      <td>396</td>\n",
       "      <td>480</td>\n",
       "      <td>270</td>\n",
       "      <td>29.97</td>\n",
       "      <td>29.97</td>\n",
       "      <td>Music</td>\n",
       "      <td>http://r2---sn-ovgq0oxu-5goe.c.youtube.com/vid...</td>\n",
       "      <td>0</td>\n",
       "      <td>1</td>\n",
       "      <td>0</td>\n",
       "      <td>0</td>\n",
       "      <td>0</td>\n",
       "    </tr>\n",
       "    <tr>\n",
       "      <th>2</th>\n",
       "      <td>uDNj-_5ty48</td>\n",
       "      <td>267</td>\n",
       "      <td>324</td>\n",
       "      <td>263</td>\n",
       "      <td>400</td>\n",
       "      <td>226</td>\n",
       "      <td>29.97</td>\n",
       "      <td>29.97</td>\n",
       "      <td>Music</td>\n",
       "      <td>http://r2---sn-ovgq0oxu-5goe.c.youtube.com/vid...</td>\n",
       "      <td>1</td>\n",
       "      <td>0</td>\n",
       "      <td>0</td>\n",
       "      <td>0</td>\n",
       "      <td>0</td>\n",
       "    </tr>\n",
       "    <tr>\n",
       "      <th>3</th>\n",
       "      <td>uDNj-_5ty48</td>\n",
       "      <td>267</td>\n",
       "      <td>85</td>\n",
       "      <td>55</td>\n",
       "      <td>176</td>\n",
       "      <td>144</td>\n",
       "      <td>12.00</td>\n",
       "      <td>12.00</td>\n",
       "      <td>Music</td>\n",
       "      <td>http://r2---sn-ovgq0oxu-5goe.c.youtube.com/vid...</td>\n",
       "      <td>0</td>\n",
       "      <td>0</td>\n",
       "      <td>1</td>\n",
       "      <td>0</td>\n",
       "      <td>0</td>\n",
       "    </tr>\n",
       "    <tr>\n",
       "      <th>4</th>\n",
       "      <td>WCgt-AactyY</td>\n",
       "      <td>31</td>\n",
       "      <td>1261</td>\n",
       "      <td>1183</td>\n",
       "      <td>640</td>\n",
       "      <td>480</td>\n",
       "      <td>24.00</td>\n",
       "      <td>0.00</td>\n",
       "      <td>People &amp; Blogs</td>\n",
       "      <td>http://r1---sn-ovgq0oxu-5goe.c.youtube.com/vid...</td>\n",
       "      <td>0</td>\n",
       "      <td>1</td>\n",
       "      <td>0</td>\n",
       "      <td>0</td>\n",
       "      <td>0</td>\n",
       "    </tr>\n",
       "    <tr>\n",
       "      <th>...</th>\n",
       "      <td>...</td>\n",
       "      <td>...</td>\n",
       "      <td>...</td>\n",
       "      <td>...</td>\n",
       "      <td>...</td>\n",
       "      <td>...</td>\n",
       "      <td>...</td>\n",
       "      <td>...</td>\n",
       "      <td>...</td>\n",
       "      <td>...</td>\n",
       "      <td>...</td>\n",
       "      <td>...</td>\n",
       "      <td>...</td>\n",
       "      <td>...</td>\n",
       "      <td>...</td>\n",
       "    </tr>\n",
       "    <tr>\n",
       "      <th>168281</th>\n",
       "      <td>ehHw-P9S4lU</td>\n",
       "      <td>68</td>\n",
       "      <td>816</td>\n",
       "      <td>560</td>\n",
       "      <td>480</td>\n",
       "      <td>360</td>\n",
       "      <td>29.97</td>\n",
       "      <td>29.97</td>\n",
       "      <td>Music</td>\n",
       "      <td>http://r1---sn-ovgq0oxu-5goe.c.youtube.com/vid...</td>\n",
       "      <td>0</td>\n",
       "      <td>0</td>\n",
       "      <td>0</td>\n",
       "      <td>0</td>\n",
       "      <td>1</td>\n",
       "    </tr>\n",
       "    <tr>\n",
       "      <th>168282</th>\n",
       "      <td>ehHw-P9S4lU</td>\n",
       "      <td>68</td>\n",
       "      <td>340</td>\n",
       "      <td>273</td>\n",
       "      <td>320</td>\n",
       "      <td>240</td>\n",
       "      <td>29.97</td>\n",
       "      <td>29.97</td>\n",
       "      <td>Music</td>\n",
       "      <td>http://r1---sn-ovgq0oxu-5goe.c.youtube.com/vid...</td>\n",
       "      <td>1</td>\n",
       "      <td>0</td>\n",
       "      <td>0</td>\n",
       "      <td>0</td>\n",
       "      <td>0</td>\n",
       "    </tr>\n",
       "    <tr>\n",
       "      <th>168283</th>\n",
       "      <td>ehHw-P9S4lU</td>\n",
       "      <td>68</td>\n",
       "      <td>81</td>\n",
       "      <td>55</td>\n",
       "      <td>176</td>\n",
       "      <td>144</td>\n",
       "      <td>12.00</td>\n",
       "      <td>12.00</td>\n",
       "      <td>Music</td>\n",
       "      <td>http://r1---sn-ovgq0oxu-5goe.c.youtube.com/vid...</td>\n",
       "      <td>0</td>\n",
       "      <td>0</td>\n",
       "      <td>1</td>\n",
       "      <td>0</td>\n",
       "      <td>0</td>\n",
       "    </tr>\n",
       "    <tr>\n",
       "      <th>168284</th>\n",
       "      <td>MzjT-56gXno</td>\n",
       "      <td>285</td>\n",
       "      <td>1290</td>\n",
       "      <td>1181</td>\n",
       "      <td>854</td>\n",
       "      <td>480</td>\n",
       "      <td>29.97</td>\n",
       "      <td>0.00</td>\n",
       "      <td>Sports</td>\n",
       "      <td>http://r4---sn-ovgq0oxu-5goe.c.youtube.com/vid...</td>\n",
       "      <td>0</td>\n",
       "      <td>1</td>\n",
       "      <td>0</td>\n",
       "      <td>0</td>\n",
       "      <td>0</td>\n",
       "    </tr>\n",
       "    <tr>\n",
       "      <th>168285</th>\n",
       "      <td>MzjT-56gXno</td>\n",
       "      <td>285</td>\n",
       "      <td>1087</td>\n",
       "      <td>1181</td>\n",
       "      <td>854</td>\n",
       "      <td>480</td>\n",
       "      <td>29.97</td>\n",
       "      <td>0.00</td>\n",
       "      <td>Sports</td>\n",
       "      <td>http://r4---sn-ovgq0oxu-5goe.c.youtube.com/vid...</td>\n",
       "      <td>0</td>\n",
       "      <td>0</td>\n",
       "      <td>0</td>\n",
       "      <td>0</td>\n",
       "      <td>1</td>\n",
       "    </tr>\n",
       "  </tbody>\n",
       "</table>\n",
       "<p>168286 rows × 15 columns</p>\n",
       "</div>"
      ],
      "text/plain": [
       "           id_video  duration  bitrate  bitrate(video)  height_video  \\\n",
       "0       uDNj-_5ty48       267      373             274           568   \n",
       "1       uDNj-_5ty48       267      512             396           480   \n",
       "2       uDNj-_5ty48       267      324             263           400   \n",
       "3       uDNj-_5ty48       267       85              55           176   \n",
       "4       WCgt-AactyY        31     1261            1183           640   \n",
       "...             ...       ...      ...             ...           ...   \n",
       "168281  ehHw-P9S4lU        68      816             560           480   \n",
       "168282  ehHw-P9S4lU        68      340             273           320   \n",
       "168283  ehHw-P9S4lU        68       81              55           176   \n",
       "168284  MzjT-56gXno       285     1290            1181           854   \n",
       "168285  MzjT-56gXno       285     1087            1181           854   \n",
       "\n",
       "        width_video  framerate  framerate(est.)  category_video  \\\n",
       "0               320      29.97             0.00           Music   \n",
       "1               270      29.97            29.97           Music   \n",
       "2               226      29.97            29.97           Music   \n",
       "3               144      12.00            12.00           Music   \n",
       "4               480      24.00             0.00  People & Blogs   \n",
       "...             ...        ...              ...             ...   \n",
       "168281          360      29.97            29.97           Music   \n",
       "168282          240      29.97            29.97           Music   \n",
       "168283          144      12.00            12.00           Music   \n",
       "168284          480      29.97             0.00          Sports   \n",
       "168285          480      29.97             0.00          Sports   \n",
       "\n",
       "                                                      url  codec_flv1  \\\n",
       "0       http://r2---sn-ovgq0oxu-5goe.c.youtube.com/vid...           0   \n",
       "1       http://r2---sn-ovgq0oxu-5goe.c.youtube.com/vid...           0   \n",
       "2       http://r2---sn-ovgq0oxu-5goe.c.youtube.com/vid...           1   \n",
       "3       http://r2---sn-ovgq0oxu-5goe.c.youtube.com/vid...           0   \n",
       "4       http://r1---sn-ovgq0oxu-5goe.c.youtube.com/vid...           0   \n",
       "...                                                   ...         ...   \n",
       "168281  http://r1---sn-ovgq0oxu-5goe.c.youtube.com/vid...           0   \n",
       "168282  http://r1---sn-ovgq0oxu-5goe.c.youtube.com/vid...           1   \n",
       "168283  http://r1---sn-ovgq0oxu-5goe.c.youtube.com/vid...           0   \n",
       "168284  http://r4---sn-ovgq0oxu-5goe.c.youtube.com/vid...           0   \n",
       "168285  http://r4---sn-ovgq0oxu-5goe.c.youtube.com/vid...           0   \n",
       "\n",
       "        codec_h264  codec_mpeg4  codec_none  codec_vp8  \n",
       "0                1            0           0          0  \n",
       "1                1            0           0          0  \n",
       "2                0            0           0          0  \n",
       "3                0            1           0          0  \n",
       "4                1            0           0          0  \n",
       "...            ...          ...         ...        ...  \n",
       "168281           0            0           0          1  \n",
       "168282           0            0           0          0  \n",
       "168283           0            1           0          0  \n",
       "168284           1            0           0          0  \n",
       "168285           0            0           0          1  \n",
       "\n",
       "[168286 rows x 15 columns]"
      ]
     },
     "execution_count": 109,
     "metadata": {},
     "output_type": "execute_result"
    }
   ],
   "source": [
    "df_youtube_videos = pd.get_dummies(df_youtube_videos, columns=['codec'])\n",
    "df_youtube_videos\n"
   ]
  },
  {
   "cell_type": "code",
   "execution_count": 110,
   "id": "aa8cc281",
   "metadata": {},
   "outputs": [
    {
     "data": {
      "text/html": [
       "<div>\n",
       "<style scoped>\n",
       "    .dataframe tbody tr th:only-of-type {\n",
       "        vertical-align: middle;\n",
       "    }\n",
       "\n",
       "    .dataframe tbody tr th {\n",
       "        vertical-align: top;\n",
       "    }\n",
       "\n",
       "    .dataframe thead th {\n",
       "        text-align: right;\n",
       "    }\n",
       "</style>\n",
       "<table border=\"1\" class=\"dataframe\">\n",
       "  <thead>\n",
       "    <tr style=\"text-align: right;\">\n",
       "      <th></th>\n",
       "      <th>id_video</th>\n",
       "      <th>duration</th>\n",
       "      <th>codec</th>\n",
       "      <th>width_video</th>\n",
       "      <th>height_video</th>\n",
       "      <th>bitrate</th>\n",
       "      <th>framerate</th>\n",
       "      <th>number_i_frames</th>\n",
       "      <th>number_p_frames</th>\n",
       "      <th>number_b_frames</th>\n",
       "      <th>...</th>\n",
       "      <th>p_size</th>\n",
       "      <th>b_size</th>\n",
       "      <th>total_size</th>\n",
       "      <th>o_codec</th>\n",
       "      <th>o_bitrate</th>\n",
       "      <th>o_framerate</th>\n",
       "      <th>o_width</th>\n",
       "      <th>o_height</th>\n",
       "      <th>codec_allocated_memory</th>\n",
       "      <th>transcoding_time</th>\n",
       "    </tr>\n",
       "  </thead>\n",
       "  <tbody>\n",
       "    <tr>\n",
       "      <th>0</th>\n",
       "      <td>04t6-jw9czg</td>\n",
       "      <td>130.35667</td>\n",
       "      <td>mpeg4</td>\n",
       "      <td>176</td>\n",
       "      <td>144</td>\n",
       "      <td>54590</td>\n",
       "      <td>12.000000</td>\n",
       "      <td>27</td>\n",
       "      <td>1537</td>\n",
       "      <td>0</td>\n",
       "      <td>...</td>\n",
       "      <td>825054</td>\n",
       "      <td>0</td>\n",
       "      <td>889537</td>\n",
       "      <td>mpeg4</td>\n",
       "      <td>56000</td>\n",
       "      <td>12.00</td>\n",
       "      <td>176</td>\n",
       "      <td>144</td>\n",
       "      <td>22508</td>\n",
       "      <td>0.612</td>\n",
       "    </tr>\n",
       "    <tr>\n",
       "      <th>1</th>\n",
       "      <td>04t6-jw9czg</td>\n",
       "      <td>130.35667</td>\n",
       "      <td>mpeg4</td>\n",
       "      <td>176</td>\n",
       "      <td>144</td>\n",
       "      <td>54590</td>\n",
       "      <td>12.000000</td>\n",
       "      <td>27</td>\n",
       "      <td>1537</td>\n",
       "      <td>0</td>\n",
       "      <td>...</td>\n",
       "      <td>825054</td>\n",
       "      <td>0</td>\n",
       "      <td>889537</td>\n",
       "      <td>mpeg4</td>\n",
       "      <td>56000</td>\n",
       "      <td>12.00</td>\n",
       "      <td>320</td>\n",
       "      <td>240</td>\n",
       "      <td>25164</td>\n",
       "      <td>0.980</td>\n",
       "    </tr>\n",
       "    <tr>\n",
       "      <th>2</th>\n",
       "      <td>04t6-jw9czg</td>\n",
       "      <td>130.35667</td>\n",
       "      <td>mpeg4</td>\n",
       "      <td>176</td>\n",
       "      <td>144</td>\n",
       "      <td>54590</td>\n",
       "      <td>12.000000</td>\n",
       "      <td>27</td>\n",
       "      <td>1537</td>\n",
       "      <td>0</td>\n",
       "      <td>...</td>\n",
       "      <td>825054</td>\n",
       "      <td>0</td>\n",
       "      <td>889537</td>\n",
       "      <td>mpeg4</td>\n",
       "      <td>56000</td>\n",
       "      <td>12.00</td>\n",
       "      <td>480</td>\n",
       "      <td>360</td>\n",
       "      <td>29228</td>\n",
       "      <td>1.216</td>\n",
       "    </tr>\n",
       "    <tr>\n",
       "      <th>3</th>\n",
       "      <td>04t6-jw9czg</td>\n",
       "      <td>130.35667</td>\n",
       "      <td>mpeg4</td>\n",
       "      <td>176</td>\n",
       "      <td>144</td>\n",
       "      <td>54590</td>\n",
       "      <td>12.000000</td>\n",
       "      <td>27</td>\n",
       "      <td>1537</td>\n",
       "      <td>0</td>\n",
       "      <td>...</td>\n",
       "      <td>825054</td>\n",
       "      <td>0</td>\n",
       "      <td>889537</td>\n",
       "      <td>mpeg4</td>\n",
       "      <td>56000</td>\n",
       "      <td>12.00</td>\n",
       "      <td>640</td>\n",
       "      <td>480</td>\n",
       "      <td>34316</td>\n",
       "      <td>1.692</td>\n",
       "    </tr>\n",
       "    <tr>\n",
       "      <th>4</th>\n",
       "      <td>04t6-jw9czg</td>\n",
       "      <td>130.35667</td>\n",
       "      <td>mpeg4</td>\n",
       "      <td>176</td>\n",
       "      <td>144</td>\n",
       "      <td>54590</td>\n",
       "      <td>12.000000</td>\n",
       "      <td>27</td>\n",
       "      <td>1537</td>\n",
       "      <td>0</td>\n",
       "      <td>...</td>\n",
       "      <td>825054</td>\n",
       "      <td>0</td>\n",
       "      <td>889537</td>\n",
       "      <td>mpeg4</td>\n",
       "      <td>56000</td>\n",
       "      <td>12.00</td>\n",
       "      <td>1280</td>\n",
       "      <td>720</td>\n",
       "      <td>58528</td>\n",
       "      <td>3.456</td>\n",
       "    </tr>\n",
       "    <tr>\n",
       "      <th>...</th>\n",
       "      <td>...</td>\n",
       "      <td>...</td>\n",
       "      <td>...</td>\n",
       "      <td>...</td>\n",
       "      <td>...</td>\n",
       "      <td>...</td>\n",
       "      <td>...</td>\n",
       "      <td>...</td>\n",
       "      <td>...</td>\n",
       "      <td>...</td>\n",
       "      <td>...</td>\n",
       "      <td>...</td>\n",
       "      <td>...</td>\n",
       "      <td>...</td>\n",
       "      <td>...</td>\n",
       "      <td>...</td>\n",
       "      <td>...</td>\n",
       "      <td>...</td>\n",
       "      <td>...</td>\n",
       "      <td>...</td>\n",
       "      <td>...</td>\n",
       "    </tr>\n",
       "    <tr>\n",
       "      <th>68779</th>\n",
       "      <td>ZWEN-71BqPs</td>\n",
       "      <td>972.27100</td>\n",
       "      <td>h264</td>\n",
       "      <td>480</td>\n",
       "      <td>360</td>\n",
       "      <td>278822</td>\n",
       "      <td>29.000000</td>\n",
       "      <td>560</td>\n",
       "      <td>28580</td>\n",
       "      <td>0</td>\n",
       "      <td>...</td>\n",
       "      <td>26561730</td>\n",
       "      <td>0</td>\n",
       "      <td>33886358</td>\n",
       "      <td>flv</td>\n",
       "      <td>242000</td>\n",
       "      <td>24.00</td>\n",
       "      <td>640</td>\n",
       "      <td>480</td>\n",
       "      <td>88692</td>\n",
       "      <td>1.552</td>\n",
       "    </tr>\n",
       "    <tr>\n",
       "      <th>68780</th>\n",
       "      <td>zWQN-bqqg0o</td>\n",
       "      <td>129.88100</td>\n",
       "      <td>vp8</td>\n",
       "      <td>640</td>\n",
       "      <td>480</td>\n",
       "      <td>639331</td>\n",
       "      <td>30.162790</td>\n",
       "      <td>36</td>\n",
       "      <td>3855</td>\n",
       "      <td>0</td>\n",
       "      <td>...</td>\n",
       "      <td>9503846</td>\n",
       "      <td>0</td>\n",
       "      <td>10379630</td>\n",
       "      <td>mpeg4</td>\n",
       "      <td>539000</td>\n",
       "      <td>29.97</td>\n",
       "      <td>1920</td>\n",
       "      <td>1080</td>\n",
       "      <td>107524</td>\n",
       "      <td>18.557</td>\n",
       "    </tr>\n",
       "    <tr>\n",
       "      <th>68781</th>\n",
       "      <td>zX17-vi0sqQ</td>\n",
       "      <td>249.68000</td>\n",
       "      <td>vp8</td>\n",
       "      <td>320</td>\n",
       "      <td>240</td>\n",
       "      <td>359345</td>\n",
       "      <td>25.068274</td>\n",
       "      <td>129</td>\n",
       "      <td>6113</td>\n",
       "      <td>0</td>\n",
       "      <td>...</td>\n",
       "      <td>9456514</td>\n",
       "      <td>0</td>\n",
       "      <td>11215178</td>\n",
       "      <td>flv</td>\n",
       "      <td>539000</td>\n",
       "      <td>12.00</td>\n",
       "      <td>176</td>\n",
       "      <td>144</td>\n",
       "      <td>88708</td>\n",
       "      <td>0.752</td>\n",
       "    </tr>\n",
       "    <tr>\n",
       "      <th>68782</th>\n",
       "      <td>zyiT-TzxIpk</td>\n",
       "      <td>183.62334</td>\n",
       "      <td>h264</td>\n",
       "      <td>1280</td>\n",
       "      <td>720</td>\n",
       "      <td>2847539</td>\n",
       "      <td>29.000000</td>\n",
       "      <td>98</td>\n",
       "      <td>5405</td>\n",
       "      <td>0</td>\n",
       "      <td>...</td>\n",
       "      <td>60113035</td>\n",
       "      <td>0</td>\n",
       "      <td>65359329</td>\n",
       "      <td>mpeg4</td>\n",
       "      <td>539000</td>\n",
       "      <td>12.00</td>\n",
       "      <td>320</td>\n",
       "      <td>240</td>\n",
       "      <td>88724</td>\n",
       "      <td>5.444</td>\n",
       "    </tr>\n",
       "    <tr>\n",
       "      <th>68783</th>\n",
       "      <td>zZKo-QsY86U</td>\n",
       "      <td>294.61334</td>\n",
       "      <td>mpeg4</td>\n",
       "      <td>176</td>\n",
       "      <td>144</td>\n",
       "      <td>55242</td>\n",
       "      <td>12.000000</td>\n",
       "      <td>61</td>\n",
       "      <td>3474</td>\n",
       "      <td>0</td>\n",
       "      <td>...</td>\n",
       "      <td>1950409</td>\n",
       "      <td>0</td>\n",
       "      <td>2034411</td>\n",
       "      <td>h264</td>\n",
       "      <td>820000</td>\n",
       "      <td>24.00</td>\n",
       "      <td>176</td>\n",
       "      <td>144</td>\n",
       "      <td>88736</td>\n",
       "      <td>3.076</td>\n",
       "    </tr>\n",
       "  </tbody>\n",
       "</table>\n",
       "<p>68784 rows × 22 columns</p>\n",
       "</div>"
      ],
      "text/plain": [
       "          id_video   duration  codec  width_video  height_video  bitrate  \\\n",
       "0      04t6-jw9czg  130.35667  mpeg4          176           144    54590   \n",
       "1      04t6-jw9czg  130.35667  mpeg4          176           144    54590   \n",
       "2      04t6-jw9czg  130.35667  mpeg4          176           144    54590   \n",
       "3      04t6-jw9czg  130.35667  mpeg4          176           144    54590   \n",
       "4      04t6-jw9czg  130.35667  mpeg4          176           144    54590   \n",
       "...            ...        ...    ...          ...           ...      ...   \n",
       "68779  ZWEN-71BqPs  972.27100   h264          480           360   278822   \n",
       "68780  zWQN-bqqg0o  129.88100    vp8          640           480   639331   \n",
       "68781  zX17-vi0sqQ  249.68000    vp8          320           240   359345   \n",
       "68782  zyiT-TzxIpk  183.62334   h264         1280           720  2847539   \n",
       "68783  zZKo-QsY86U  294.61334  mpeg4          176           144    55242   \n",
       "\n",
       "       framerate  number_i_frames  number_p_frames  number_b_frames  ...  \\\n",
       "0      12.000000               27             1537                0  ...   \n",
       "1      12.000000               27             1537                0  ...   \n",
       "2      12.000000               27             1537                0  ...   \n",
       "3      12.000000               27             1537                0  ...   \n",
       "4      12.000000               27             1537                0  ...   \n",
       "...          ...              ...              ...              ...  ...   \n",
       "68779  29.000000              560            28580                0  ...   \n",
       "68780  30.162790               36             3855                0  ...   \n",
       "68781  25.068274              129             6113                0  ...   \n",
       "68782  29.000000               98             5405                0  ...   \n",
       "68783  12.000000               61             3474                0  ...   \n",
       "\n",
       "         p_size  b_size  total_size  o_codec  o_bitrate o_framerate  o_width  \\\n",
       "0        825054       0      889537    mpeg4      56000       12.00      176   \n",
       "1        825054       0      889537    mpeg4      56000       12.00      320   \n",
       "2        825054       0      889537    mpeg4      56000       12.00      480   \n",
       "3        825054       0      889537    mpeg4      56000       12.00      640   \n",
       "4        825054       0      889537    mpeg4      56000       12.00     1280   \n",
       "...         ...     ...         ...      ...        ...         ...      ...   \n",
       "68779  26561730       0    33886358      flv     242000       24.00      640   \n",
       "68780   9503846       0    10379630    mpeg4     539000       29.97     1920   \n",
       "68781   9456514       0    11215178      flv     539000       12.00      176   \n",
       "68782  60113035       0    65359329    mpeg4     539000       12.00      320   \n",
       "68783   1950409       0     2034411     h264     820000       24.00      176   \n",
       "\n",
       "       o_height  codec_allocated_memory  transcoding_time  \n",
       "0           144                   22508             0.612  \n",
       "1           240                   25164             0.980  \n",
       "2           360                   29228             1.216  \n",
       "3           480                   34316             1.692  \n",
       "4           720                   58528             3.456  \n",
       "...         ...                     ...               ...  \n",
       "68779       480                   88692             1.552  \n",
       "68780      1080                  107524            18.557  \n",
       "68781       144                   88708             0.752  \n",
       "68782       240                   88724             5.444  \n",
       "68783       144                   88736             3.076  \n",
       "\n",
       "[68784 rows x 22 columns]"
      ]
     },
     "execution_count": 110,
     "metadata": {},
     "output_type": "execute_result"
    }
   ],
   "source": [
    "# df_transcoding_mesurment = pd.get_dummies(df_transcoding_mesurment, columns=['codec'])\n",
    "df_transcoding_mesurment\n",
    "# df_transcoding_mesurment = pd.get_dummies(df_transcoding_mesurment, columns=['o_codec'])\n",
    "df_transcoding_mesurment"
   ]
  },
  {
   "cell_type": "code",
   "execution_count": 111,
   "id": "2ea69fc3",
   "metadata": {},
   "outputs": [
    {
     "data": {
      "text/plain": [
       "<AxesSubplot:>"
      ]
     },
     "execution_count": 111,
     "metadata": {},
     "output_type": "execute_result"
    },
    {
     "data": {
      "image/png": "[encoded data removed]",
      "text/plain": [
       "<Figure size 2500x2000 with 2 Axes>"
      ]
     },
     "metadata": {},
     "output_type": "display_data"
    }
   ],
   "source": [
    "corr = df_transcoding_mesurment.corr()\n",
    "# corr.plot()\n",
    "# corr.style.background_gradient(cmap='coolwarm')\n",
    "\n",
    "\n",
    "#\n",
    "# Set up the matplotlib plot configuration\n",
    "#\n",
    "f, ax = plt.subplots(figsize=(25, 20))\n",
    "#\n",
    "# Generate a mask for upper traingle\n",
    "#\n",
    "mask = np.triu(np.ones_like(corr, dtype=bool))\n",
    "#\n",
    "# Configure a custom diverging colormap\n",
    "#\n",
    "cmap = sns.diverging_palette(230, 20, as_cmap=True)\n",
    "#\n",
    "# Draw the heatmap\n",
    "#\n",
    "sns.heatmap(corr, annot=True, mask = mask, cmap=cmap)"
   ]
  },
  {
   "cell_type": "code",
   "execution_count": 112,
   "id": "1b9ee157",
   "metadata": {},
   "outputs": [
    {
     "data": {
      "text/plain": [
       "<AxesSubplot:ylabel='Frequency'>"
      ]
     },
     "execution_count": 112,
     "metadata": {},
     "output_type": "execute_result"
    },
    {
     "data": {
      "image/png": "[encoded data removed]",
      "text/plain": [
       "<Figure size 640x480 with 1 Axes>"
      ]
     },
     "metadata": {},
     "output_type": "display_data"
    }
   ],
   "source": [
    "\n",
    "\n",
    "\n",
    "q = df_transcoding_mesurment[\"duration\"].quantile(0.01)\n",
    "\n",
    "df_95 = df_transcoding_mesurment[df_transcoding_mesurment[\"duration\"] < q]\n",
    "df_95[\"duration\"].plot.hist(bins=25 ,edgecolor='black')"
   ]
  }
 ],
 "metadata": {
  "kernelspec": {
   "display_name": "Python 3.10.7 64-bit",
   "language": "python",
   "name": "python3"
  },
  "language_info": {
   "codemirror_mode": {
    "name": "ipython",
    "version": 3
   },
   "file_extension": ".py",
   "mimetype": "text/x-python",
   "name": "python",
   "nbconvert_exporter": "python",
   "pygments_lexer": "ipython3",
   "version": "3.10.7"
  },
  "vscode": {
   "interpreter": {
    "hash": "fde1c65e38262341d55322e15df2c5f02d5ca84b4f7e3fa94de079370ea21b47"
   }
  }
 },
 "nbformat": 4,
 "nbformat_minor": 5
}
