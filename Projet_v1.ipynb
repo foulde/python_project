{
 "cells": [
  {
   "cell_type": "code",
   "execution_count": 1,
   "id": "95aac1b6",
   "metadata": {},
   "outputs": [],
   "source": [
    "import pandas as pd\n",
    "import numpy as np\n",
    "import matplotlib.pyplot as plt\n",
    "import plotly.express as px"
   ]
  },
  {
   "cell_type": "code",
   "execution_count": 2,
   "id": "c1f2d6ba",
   "metadata": {},
   "outputs": [
    {
     "data": {
      "text/html": [
       "<div>\n",
       "<style scoped>\n",
       "    .dataframe tbody tr th:only-of-type {\n",
       "        vertical-align: middle;\n",
       "    }\n",
       "\n",
       "    .dataframe tbody tr th {\n",
       "        vertical-align: top;\n",
       "    }\n",
       "\n",
       "    .dataframe thead th {\n",
       "        text-align: right;\n",
       "    }\n",
       "</style>\n",
       "<table border=\"1\" class=\"dataframe\">\n",
       "  <thead>\n",
       "    <tr style=\"text-align: right;\">\n",
       "      <th></th>\n",
       "      <th>id</th>\n",
       "      <th>duration</th>\n",
       "      <th>bitrate</th>\n",
       "      <th>bitrate(video)</th>\n",
       "      <th>height</th>\n",
       "      <th>width</th>\n",
       "      <th>frame rate</th>\n",
       "      <th>frame rate(est.)</th>\n",
       "      <th>codec</th>\n",
       "      <th>category</th>\n",
       "      <th>url</th>\n",
       "    </tr>\n",
       "  </thead>\n",
       "  <tbody>\n",
       "    <tr>\n",
       "      <th>0</th>\n",
       "      <td>uDNj-_5ty48</td>\n",
       "      <td>267</td>\n",
       "      <td>373</td>\n",
       "      <td>274</td>\n",
       "      <td>568</td>\n",
       "      <td>320</td>\n",
       "      <td>29.97</td>\n",
       "      <td>0.00</td>\n",
       "      <td>h264</td>\n",
       "      <td>Music</td>\n",
       "      <td>http://r2---sn-ovgq0oxu-5goe.c.youtube.com/vid...</td>\n",
       "    </tr>\n",
       "    <tr>\n",
       "      <th>1</th>\n",
       "      <td>uDNj-_5ty48</td>\n",
       "      <td>267</td>\n",
       "      <td>512</td>\n",
       "      <td>396</td>\n",
       "      <td>480</td>\n",
       "      <td>270</td>\n",
       "      <td>29.97</td>\n",
       "      <td>29.97</td>\n",
       "      <td>h264</td>\n",
       "      <td>Music</td>\n",
       "      <td>http://r2---sn-ovgq0oxu-5goe.c.youtube.com/vid...</td>\n",
       "    </tr>\n",
       "    <tr>\n",
       "      <th>2</th>\n",
       "      <td>uDNj-_5ty48</td>\n",
       "      <td>267</td>\n",
       "      <td>324</td>\n",
       "      <td>263</td>\n",
       "      <td>400</td>\n",
       "      <td>226</td>\n",
       "      <td>29.97</td>\n",
       "      <td>29.97</td>\n",
       "      <td>flv1</td>\n",
       "      <td>Music</td>\n",
       "      <td>http://r2---sn-ovgq0oxu-5goe.c.youtube.com/vid...</td>\n",
       "    </tr>\n",
       "    <tr>\n",
       "      <th>3</th>\n",
       "      <td>uDNj-_5ty48</td>\n",
       "      <td>267</td>\n",
       "      <td>85</td>\n",
       "      <td>55</td>\n",
       "      <td>176</td>\n",
       "      <td>144</td>\n",
       "      <td>12.00</td>\n",
       "      <td>12.00</td>\n",
       "      <td>mpeg4</td>\n",
       "      <td>Music</td>\n",
       "      <td>http://r2---sn-ovgq0oxu-5goe.c.youtube.com/vid...</td>\n",
       "    </tr>\n",
       "    <tr>\n",
       "      <th>4</th>\n",
       "      <td>WCgt-AactyY</td>\n",
       "      <td>31</td>\n",
       "      <td>1261</td>\n",
       "      <td>1183</td>\n",
       "      <td>640</td>\n",
       "      <td>480</td>\n",
       "      <td>24.00</td>\n",
       "      <td>0.00</td>\n",
       "      <td>h264</td>\n",
       "      <td>People &amp; Blogs</td>\n",
       "      <td>http://r1---sn-ovgq0oxu-5goe.c.youtube.com/vid...</td>\n",
       "    </tr>\n",
       "  </tbody>\n",
       "</table>\n",
       "</div>"
      ],
      "text/plain": [
       "            id  duration  bitrate  bitrate(video)  height  width  frame rate  \\\n",
       "0  uDNj-_5ty48       267      373             274     568    320       29.97   \n",
       "1  uDNj-_5ty48       267      512             396     480    270       29.97   \n",
       "2  uDNj-_5ty48       267      324             263     400    226       29.97   \n",
       "3  uDNj-_5ty48       267       85              55     176    144       12.00   \n",
       "4  WCgt-AactyY        31     1261            1183     640    480       24.00   \n",
       "\n",
       "   frame rate(est.)  codec        category  \\\n",
       "0              0.00   h264           Music   \n",
       "1             29.97   h264           Music   \n",
       "2             29.97   flv1           Music   \n",
       "3             12.00  mpeg4           Music   \n",
       "4              0.00   h264  People & Blogs   \n",
       "\n",
       "                                                 url  \n",
       "0  http://r2---sn-ovgq0oxu-5goe.c.youtube.com/vid...  \n",
       "1  http://r2---sn-ovgq0oxu-5goe.c.youtube.com/vid...  \n",
       "2  http://r2---sn-ovgq0oxu-5goe.c.youtube.com/vid...  \n",
       "3  http://r2---sn-ovgq0oxu-5goe.c.youtube.com/vid...  \n",
       "4  http://r1---sn-ovgq0oxu-5goe.c.youtube.com/vid...  "
      ]
     },
     "execution_count": 2,
     "metadata": {},
     "output_type": "execute_result"
    }
   ],
   "source": [
    "df_youtube_videos=pd.read_csv(\"youtube_videos.tsv\",sep=\"\\t\")\n",
    "df_youtube_videos.head(5)"
   ]
  },
  {
   "cell_type": "code",
   "execution_count": 3,
   "id": "2a9062fe",
   "metadata": {},
   "outputs": [
    {
     "data": {
      "text/html": [
       "<div>\n",
       "<style scoped>\n",
       "    .dataframe tbody tr th:only-of-type {\n",
       "        vertical-align: middle;\n",
       "    }\n",
       "\n",
       "    .dataframe tbody tr th {\n",
       "        vertical-align: top;\n",
       "    }\n",
       "\n",
       "    .dataframe thead th {\n",
       "        text-align: right;\n",
       "    }\n",
       "</style>\n",
       "<table border=\"1\" class=\"dataframe\">\n",
       "  <thead>\n",
       "    <tr style=\"text-align: right;\">\n",
       "      <th></th>\n",
       "      <th>id</th>\n",
       "      <th>duration</th>\n",
       "      <th>codec</th>\n",
       "      <th>width</th>\n",
       "      <th>height</th>\n",
       "      <th>bitrate</th>\n",
       "      <th>framerate</th>\n",
       "      <th>i</th>\n",
       "      <th>p</th>\n",
       "      <th>b</th>\n",
       "      <th>...</th>\n",
       "      <th>p_size</th>\n",
       "      <th>b_size</th>\n",
       "      <th>size</th>\n",
       "      <th>o_codec</th>\n",
       "      <th>o_bitrate</th>\n",
       "      <th>o_framerate</th>\n",
       "      <th>o_width</th>\n",
       "      <th>o_height</th>\n",
       "      <th>umem</th>\n",
       "      <th>utime</th>\n",
       "    </tr>\n",
       "  </thead>\n",
       "  <tbody>\n",
       "    <tr>\n",
       "      <th>0</th>\n",
       "      <td>04t6-jw9czg</td>\n",
       "      <td>130.35667</td>\n",
       "      <td>mpeg4</td>\n",
       "      <td>176</td>\n",
       "      <td>144</td>\n",
       "      <td>54590</td>\n",
       "      <td>12.0</td>\n",
       "      <td>27</td>\n",
       "      <td>1537</td>\n",
       "      <td>0</td>\n",
       "      <td>...</td>\n",
       "      <td>825054</td>\n",
       "      <td>0</td>\n",
       "      <td>889537</td>\n",
       "      <td>mpeg4</td>\n",
       "      <td>56000</td>\n",
       "      <td>12.0</td>\n",
       "      <td>176</td>\n",
       "      <td>144</td>\n",
       "      <td>22508</td>\n",
       "      <td>0.612</td>\n",
       "    </tr>\n",
       "    <tr>\n",
       "      <th>1</th>\n",
       "      <td>04t6-jw9czg</td>\n",
       "      <td>130.35667</td>\n",
       "      <td>mpeg4</td>\n",
       "      <td>176</td>\n",
       "      <td>144</td>\n",
       "      <td>54590</td>\n",
       "      <td>12.0</td>\n",
       "      <td>27</td>\n",
       "      <td>1537</td>\n",
       "      <td>0</td>\n",
       "      <td>...</td>\n",
       "      <td>825054</td>\n",
       "      <td>0</td>\n",
       "      <td>889537</td>\n",
       "      <td>mpeg4</td>\n",
       "      <td>56000</td>\n",
       "      <td>12.0</td>\n",
       "      <td>320</td>\n",
       "      <td>240</td>\n",
       "      <td>25164</td>\n",
       "      <td>0.980</td>\n",
       "    </tr>\n",
       "    <tr>\n",
       "      <th>2</th>\n",
       "      <td>04t6-jw9czg</td>\n",
       "      <td>130.35667</td>\n",
       "      <td>mpeg4</td>\n",
       "      <td>176</td>\n",
       "      <td>144</td>\n",
       "      <td>54590</td>\n",
       "      <td>12.0</td>\n",
       "      <td>27</td>\n",
       "      <td>1537</td>\n",
       "      <td>0</td>\n",
       "      <td>...</td>\n",
       "      <td>825054</td>\n",
       "      <td>0</td>\n",
       "      <td>889537</td>\n",
       "      <td>mpeg4</td>\n",
       "      <td>56000</td>\n",
       "      <td>12.0</td>\n",
       "      <td>480</td>\n",
       "      <td>360</td>\n",
       "      <td>29228</td>\n",
       "      <td>1.216</td>\n",
       "    </tr>\n",
       "    <tr>\n",
       "      <th>3</th>\n",
       "      <td>04t6-jw9czg</td>\n",
       "      <td>130.35667</td>\n",
       "      <td>mpeg4</td>\n",
       "      <td>176</td>\n",
       "      <td>144</td>\n",
       "      <td>54590</td>\n",
       "      <td>12.0</td>\n",
       "      <td>27</td>\n",
       "      <td>1537</td>\n",
       "      <td>0</td>\n",
       "      <td>...</td>\n",
       "      <td>825054</td>\n",
       "      <td>0</td>\n",
       "      <td>889537</td>\n",
       "      <td>mpeg4</td>\n",
       "      <td>56000</td>\n",
       "      <td>12.0</td>\n",
       "      <td>640</td>\n",
       "      <td>480</td>\n",
       "      <td>34316</td>\n",
       "      <td>1.692</td>\n",
       "    </tr>\n",
       "    <tr>\n",
       "      <th>4</th>\n",
       "      <td>04t6-jw9czg</td>\n",
       "      <td>130.35667</td>\n",
       "      <td>mpeg4</td>\n",
       "      <td>176</td>\n",
       "      <td>144</td>\n",
       "      <td>54590</td>\n",
       "      <td>12.0</td>\n",
       "      <td>27</td>\n",
       "      <td>1537</td>\n",
       "      <td>0</td>\n",
       "      <td>...</td>\n",
       "      <td>825054</td>\n",
       "      <td>0</td>\n",
       "      <td>889537</td>\n",
       "      <td>mpeg4</td>\n",
       "      <td>56000</td>\n",
       "      <td>12.0</td>\n",
       "      <td>1280</td>\n",
       "      <td>720</td>\n",
       "      <td>58528</td>\n",
       "      <td>3.456</td>\n",
       "    </tr>\n",
       "  </tbody>\n",
       "</table>\n",
       "<p>5 rows × 22 columns</p>\n",
       "</div>"
      ],
      "text/plain": [
       "            id   duration  codec  width  height  bitrate  framerate   i     p  \\\n",
       "0  04t6-jw9czg  130.35667  mpeg4    176     144    54590       12.0  27  1537   \n",
       "1  04t6-jw9czg  130.35667  mpeg4    176     144    54590       12.0  27  1537   \n",
       "2  04t6-jw9czg  130.35667  mpeg4    176     144    54590       12.0  27  1537   \n",
       "3  04t6-jw9czg  130.35667  mpeg4    176     144    54590       12.0  27  1537   \n",
       "4  04t6-jw9czg  130.35667  mpeg4    176     144    54590       12.0  27  1537   \n",
       "\n",
       "   b  ...  p_size  b_size    size  o_codec  o_bitrate o_framerate  o_width  \\\n",
       "0  0  ...  825054       0  889537    mpeg4      56000        12.0      176   \n",
       "1  0  ...  825054       0  889537    mpeg4      56000        12.0      320   \n",
       "2  0  ...  825054       0  889537    mpeg4      56000        12.0      480   \n",
       "3  0  ...  825054       0  889537    mpeg4      56000        12.0      640   \n",
       "4  0  ...  825054       0  889537    mpeg4      56000        12.0     1280   \n",
       "\n",
       "   o_height   umem  utime  \n",
       "0       144  22508  0.612  \n",
       "1       240  25164  0.980  \n",
       "2       360  29228  1.216  \n",
       "3       480  34316  1.692  \n",
       "4       720  58528  3.456  \n",
       "\n",
       "[5 rows x 22 columns]"
      ]
     },
     "execution_count": 3,
     "metadata": {},
     "output_type": "execute_result"
    }
   ],
   "source": [
    "df_transcoding_mesurment=pd.read_csv(\"transcoding_mesurment.tsv\",sep=\"\\t\")\n",
    "df_transcoding_mesurment.head(5)\n"
   ]
  },
  {
   "cell_type": "code",
   "execution_count": 4,
   "id": "ea4be091",
   "metadata": {},
   "outputs": [
    {
     "name": "stdout",
     "output_type": "stream",
     "text": [
      "Index(['id', 'duration', 'codec', 'width', 'height', 'bitrate', 'framerate',\n",
      "       'i', 'p', 'b', 'frames', 'i_size', 'p_size', 'b_size', 'size',\n",
      "       'o_codec', 'o_bitrate', 'o_framerate', 'o_width', 'o_height', 'umem',\n",
      "       'utime'],\n",
      "      dtype='object')\n"
     ]
    },
    {
     "data": {
      "text/plain": [
       "22"
      ]
     },
     "execution_count": 4,
     "metadata": {},
     "output_type": "execute_result"
    }
   ],
   "source": [
    "print(df_transcoding_mesurment.columns)\n",
    "len(df_transcoding_mesurment.columns)"
   ]
  },
  {
   "cell_type": "code",
   "execution_count": 5,
   "id": "b12ed6d9",
   "metadata": {},
   "outputs": [
    {
     "name": "stdout",
     "output_type": "stream",
     "text": [
      "Index(['id', 'duration', 'bitrate', 'bitrate(video)', 'height', 'width',\n",
      "       'frame rate', 'frame rate(est.)', 'codec', 'category', 'url'],\n",
      "      dtype='object')\n"
     ]
    },
    {
     "data": {
      "text/plain": [
       "11"
      ]
     },
     "execution_count": 5,
     "metadata": {},
     "output_type": "execute_result"
    }
   ],
   "source": [
    "print(df_youtube_videos.columns)\n",
    "len(df_youtube_videos.columns)"
   ]
  },
  {
   "cell_type": "code",
   "execution_count": 6,
   "id": "f1d3a5b1",
   "metadata": {},
   "outputs": [
    {
     "name": "stdout",
     "output_type": "stream",
     "text": [
      "Index(['id', 'duration', 'codec', 'width', 'height', 'bitrate', 'framerate',\n",
      "       'i', 'p', 'b', 'frames', 'i_size', 'p_size', 'b_size', 'size',\n",
      "       'o_codec', 'o_bitrate', 'o_framerate', 'o_width', 'o_height', 'umem',\n",
      "       'utime'],\n",
      "      dtype='object')\n"
     ]
    },
    {
     "data": {
      "text/plain": [
       "22"
      ]
     },
     "execution_count": 6,
     "metadata": {},
     "output_type": "execute_result"
    }
   ],
   "source": [
    "print(df_transcoding_mesurment.columns)\n",
    "len(df_transcoding_mesurment.columns)\n"
   ]
  },
  {
   "cell_type": "code",
   "execution_count": 7,
   "id": "2023df4a",
   "metadata": {},
   "outputs": [
    {
     "name": "stdout",
     "output_type": "stream",
     "text": [
      "[]\n"
     ]
    }
   ],
   "source": [
    "empty = []\n",
    "for i in range(len(df_youtube_videos.columns)):\n",
    "    if df_youtube_videos[df_youtube_videos.columns[i]].isnull().values.all():\n",
    "        empty.append(df_youtube_videos.columns[i])\n",
    "        print(\"tomate\")\n",
    "print(empty)\n",
    "df_youtube_videos = df_youtube_videos.drop(columns=empty)"
   ]
  },
  {
   "cell_type": "code",
   "execution_count": 8,
   "id": "409f93d4",
   "metadata": {},
   "outputs": [
    {
     "name": "stdout",
     "output_type": "stream",
     "text": [
      "[]\n"
     ]
    }
   ],
   "source": [
    "empty = []\n",
    "for i in range(len(df_transcoding_mesurment.columns)):\n",
    "    if df_transcoding_mesurment[df_transcoding_mesurment.columns[i]].isnull().values.all():\n",
    "        empty.append(df_transcoding_mesurment.columns[i])\n",
    "        print(\"tomate\")\n",
    "\n",
    "print(empty)\n",
    "df_transcoding_mesurment = df_transcoding_mesurment.drop(columns=empty)"
   ]
  },
  {
   "cell_type": "code",
   "execution_count": 9,
   "id": "8e344797",
   "metadata": {},
   "outputs": [],
   "source": [
    "df_youtube_videos = df_youtube_videos.drop(df_youtube_videos.url)"
   ]
  },
  {
   "cell_type": "code",
   "execution_count": null,
   "id": "ec4e0d79",
   "metadata": {},
   "outputs": [],
   "source": [
    "df_youtube_videos.set_axis(['id_video','duration', 'bitrate', 'bitrate(video)', 'height_video', 'width_video','framerate', 'framerate(est.)', 'codec', 'category_video', 'url'],axis='columns',inplace=True)\n",
    "df_transcoding_mesurment.set_axis(['id_video', 'duration', 'codec', 'width_video', 'height_video', 'bitrate', 'framerate','number_i_frames', 'number_p_frames', 'number_b_frames', 'total_frames', 'i_size', 'p_size', 'b_size', 'total_size',      'o_codec', 'o_bitrate', 'o_framerate', 'o_width', 'o_height', 'codec_allocated_memory', 'transcoding_time'], axis = 'columns',inplace =True)"
   ]
  },
  {
   "cell_type": "code",
   "execution_count": null,
   "id": "54295729",
   "metadata": {},
   "outputs": [],
   "source": [
    "df_youtube_videos.describe()\n"
   ]
  },
  {
   "cell_type": "code",
   "execution_count": null,
   "id": "ad02c0d7",
   "metadata": {},
   "outputs": [],
   "source": [
    "df_transcoding_mesurment.describe()"
   ]
  },
  {
   "cell_type": "code",
   "execution_count": null,
   "id": "9deb0f4c",
   "metadata": {},
   "outputs": [],
   "source": [
    "df_youtube_videos = pd.get_dummies(df_youtube_videos, columns=['codec'])\n",
    "df_youtube_videos\n"
   ]
  }
 ],
 "metadata": {
  "kernelspec": {
   "display_name": "Python 3.10.7 64-bit",
   "language": "python",
   "name": "python3"
  },
  "language_info": {
   "codemirror_mode": {
    "name": "ipython",
    "version": 3
   },
   "file_extension": ".py",
   "mimetype": "text/x-python",
   "name": "python",
   "nbconvert_exporter": "python",
   "pygments_lexer": "ipython3",
   "version": "3.10.7"
  },
  "vscode": {
   "interpreter": {
    "hash": "fde1c65e38262341d55322e15df2c5f02d5ca84b4f7e3fa94de079370ea21b47"
   }
  }
 },
 "nbformat": 4,
 "nbformat_minor": 5
}
