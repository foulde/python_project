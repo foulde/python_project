{
 "cells": [
  {
   "cell_type": "code",
   "execution_count": null,
   "id": "95aac1b6",
   "metadata": {},
   "outputs": [],
   "source": [
    "import pandas as pd\n",
    "import numpy as np\n",
    "import matplotlib.pyplot as plt\n",
    "import plotly.express as px"
   ]
  },
  {
   "cell_type": "code",
   "execution_count": null,
   "id": "c1f2d6ba",
   "metadata": {},
   "outputs": [],
   "source": [
    "df_youtube_videos=pd.read_csv(\"youtube_videos.tsv\",sep=\"\\t\")\n",
    "df_youtube_videos.head(5)"
   ]
  },
  {
   "cell_type": "code",
   "execution_count": null,
   "id": "2a9062fe",
   "metadata": {},
   "outputs": [],
   "source": [
    "df_transcoding_mesurment=pd.read_csv(\"transcoding_mesurment.tsv\",sep=\"\\t\")\n",
    "df_transcoding_mesurment.head(5)\n"
   ]
  },
  {
   "cell_type": "code",
   "execution_count": null,
   "id": "ea4be091",
   "metadata": {},
   "outputs": [],
   "source": [
    "print(df_transcoding_mesurment.columns)\n",
    "len(df_transcoding_mesurment.columns)"
   ]
  },
  {
   "cell_type": "code",
   "execution_count": null,
   "id": "b12ed6d9",
   "metadata": {},
   "outputs": [],
   "source": [
    "print(df_youtube_videos.columns)\n",
    "len(df_youtube_videos.columns)"
   ]
  },
  {
   "cell_type": "code",
   "execution_count": null,
   "id": "f1d3a5b1",
   "metadata": {},
   "outputs": [],
   "source": [
    "print(df_transcoding_mesurment.columns)\n",
    "len(df_transcoding_mesurment.columns)\n"
   ]
  },
  {
   "cell_type": "code",
   "execution_count": null,
   "id": "2023df4a",
   "metadata": {},
   "outputs": [],
   "source": [
    "empty = []\n",
    "for i in range(len(df_youtube_videos.columns)):\n",
    "    if df_youtube_videos[df_youtube_videos.columns[i]].isnull().values.all():\n",
    "        empty.append(df_youtube_videos.columns[i])\n",
    "        print(\"tomate\")\n",
    "print(empty)\n",
    "df_youtube_videos = df_youtube_videos.drop(columns=empty)"
   ]
  },
  {
   "cell_type": "code",
   "execution_count": null,
   "id": "409f93d4",
   "metadata": {},
   "outputs": [],
   "source": [
    "empty = []\n",
    "for i in range(len(df_transcoding_mesurment.columns)):\n",
    "    if df_transcoding_mesurment[df_transcoding_mesurment.columns[i]].isnull().values.all():\n",
    "        empty.append(df_transcoding_mesurment.columns[i])\n",
    "        print(\"tomate\")\n",
    "\n",
    "print(empty)\n",
    "df_transcoding_mesurment = df_transcoding_mesurment.drop(columns=empty)"
   ]
  },
  {
   "cell_type": "code",
   "execution_count": null,
   "id": "ec4e0d79",
   "metadata": {},
   "outputs": [],
   "source": [
    "df_youtube_videos.set_axis(['id_video','duration', 'bitrate', 'bitrate(video)', 'height_video', 'width_video','framerate', 'framerate(est.)', 'codec', 'category_video', 'url'],axis='columns',inplace=True)\n",
    "df_transcoding_mesurment.set_axis(['id_video', 'duration', 'codec', 'width_video', 'height_video', 'bitrate', 'framerate','number_i_frames', 'number_p_frames', 'number_b_frames', 'total_frames', 'i_size', 'p_size', 'b_size', 'total_size',       'o_codec', 'o_bitrate', 'o_framerate', 'o_width', 'o_height', 'codec_allocated_memory', 'transcoding_time'], axis = 'columns',inplace =True)"
   ]
  },
  {
   "cell_type": "code",
   "execution_count": null,
   "id": "5325b77a",
   "metadata": {},
   "outputs": [],
   "source": [
    "delete1=[\"bitrate(video)\"]\n",
    "delete2= ['total_frames','total_size']\n",
    "\n",
    "df_youtube_videos=df_youtube_videos.drop(columns=delete1)\n",
    "df_transcoding_mesurment=df_transcoding_mesurment.drop(columns=delete2)"
   ]
  },
  {
   "cell_type": "code",
   "execution_count": null,
   "id": "dc805729",
   "metadata": {},
   "outputs": [],
   "source": [
    "df_categorie=pd.DataFrame(df_youtube_videos,columns=['category_video'])\n",
    "temp=df_youtube_videos.groupby('category_video').size()\n",
    "\n",
    "fig=px.bar(temp,\n",
    "           x=temp.index,\n",
    "           y=temp, \n",
    "           range_x = [0,16],color=temp.index,\n",
    "           title=\"Number of Video on Each categories\")\n",
    "\n",
    "fig.update_layout(xaxis_title=\"Categories\", yaxis_title=\"Number of Video\", \n",
    "                      yaxis_categoryorder = 'total ascending',\n",
    "                      uniformtext_minsize=20, uniformtext_mode='hide')\n",
    "\n",
    "fig.show()"
   ]
  },
  {
   "cell_type": "code",
   "execution_count": null,
   "id": "636099aa",
   "metadata": {},
   "outputs": [],
   "source": [
    "df_youtube_videos"
   ]
  }
 ],
 "metadata": {
  "kernelspec": {
   "display_name": "Python 3.10.7 64-bit",
   "language": "python",
   "name": "python3"
  },
  "language_info": {
   "codemirror_mode": {
    "name": "ipython",
    "version": 3
   },
   "file_extension": ".py",
   "mimetype": "text/x-python",
   "name": "python",
   "nbconvert_exporter": "python",
   "pygments_lexer": "ipython3",
   "version": "3.10.7"
  },
  "vscode": {
   "interpreter": {
    "hash": "fde1c65e38262341d55322e15df2c5f02d5ca84b4f7e3fa94de079370ea21b47"
   }
  }
 },
 "nbformat": 4,
 "nbformat_minor": 5
}
